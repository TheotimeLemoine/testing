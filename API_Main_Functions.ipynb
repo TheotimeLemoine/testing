{
 "cells": [
  {
   "cell_type": "markdown",
   "metadata": {},
   "source": [
    "Initialization pof the IPC Communication \n",
    "1. Open OPENLCA, activate the relevent database\n",
    "2. Tools > Developper Tools > IPC Server > run the server with the correct port"
   ]
  },
  {
   "cell_type": "code",
   "execution_count": 1,
   "metadata": {},
   "outputs": [
    {
     "ename": "ModuleNotFoundError",
     "evalue": "No module named 'olca_ipc'",
     "output_type": "error",
     "traceback": [
      "\u001b[0;31m---------------------------------------------------------------------------\u001b[0m",
      "\u001b[0;31mModuleNotFoundError\u001b[0m                       Traceback (most recent call last)",
      "\u001b[1;32m/workspaces/testing/API_Main_Functions.ipynb Cell 2\u001b[0m line \u001b[0;36m1\n\u001b[0;32m----> <a href='vscode-notebook-cell://codespaces%2Bhumble-goggles-979v7rpwjwv93x476/workspaces/testing/API_Main_Functions.ipynb#W1sdnNjb2RlLXJlbW90ZQ%3D%3D?line=0'>1</a>\u001b[0m \u001b[39mimport\u001b[39;00m \u001b[39molca_ipc\u001b[39;00m \u001b[39mas\u001b[39;00m \u001b[39mipc\u001b[39;00m\n\u001b[1;32m      <a href='vscode-notebook-cell://codespaces%2Bhumble-goggles-979v7rpwjwv93x476/workspaces/testing/API_Main_Functions.ipynb#W1sdnNjb2RlLXJlbW90ZQ%3D%3D?line=1'>2</a>\u001b[0m \u001b[39mimport\u001b[39;00m \u001b[39molca_schema\u001b[39;00m \u001b[39mas\u001b[39;00m \u001b[39mo\u001b[39;00m\n\u001b[1;32m      <a href='vscode-notebook-cell://codespaces%2Bhumble-goggles-979v7rpwjwv93x476/workspaces/testing/API_Main_Functions.ipynb#W1sdnNjb2RlLXJlbW90ZQ%3D%3D?line=2'>3</a>\u001b[0m \u001b[39mimport\u001b[39;00m \u001b[39mpandas\u001b[39;00m \u001b[39mas\u001b[39;00m \u001b[39mpd\u001b[39;00m\n",
      "\u001b[0;31mModuleNotFoundError\u001b[0m: No module named 'olca_ipc'"
     ]
    }
   ],
   "source": [
    "import olca_ipc as ipc\n",
    "import olca_schema as o\n",
    "import pandas as pd\n",
    "import numpy as np\n",
    "import json\n",
    "\n",
    "from typing import Callable\n",
    "###########################################################\n",
    "client = ipc.Client(8080)"
   ]
  },
  {
   "cell_type": "markdown",
   "metadata": {},
   "source": [
    "Get  descritptors of a categories : client.get_descriptors\n",
    "return properties :  https://greendelta.github.io/olca-schema/classes/Ref.html"
   ]
  },
  {
   "cell_type": "code",
   "execution_count": null,
   "metadata": {},
   "outputs": [],
   "source": [
    "refs = client.get_descriptors(o.Process)\n",
    "for ref in refs:\n",
    "    print(ref.name, ': ',ref.id)\n"
   ]
  },
  {
   "cell_type": "markdown",
   "metadata": {},
   "source": [
    "Get a full data set by ID : client.get https://greendelta.github.io/olca-schema/classes/RootEntity.html"
   ]
  },
  {
   "cell_type": "code",
   "execution_count": null,
   "metadata": {},
   "outputs": [],
   "source": [
    "process = client.get(o.Process,\"bd726e85-aaf9-4ec9-8617-8ededa87b89d\")\n",
    "print(process.exchanges)"
   ]
  },
  {
   "cell_type": "markdown",
   "metadata": {},
   "source": [
    "Get a data set by name "
   ]
  },
  {
   "cell_type": "code",
   "execution_count": null,
   "metadata": {},
   "outputs": [],
   "source": [
    "mass = client.get(o.FlowProperty, name=\"Mass\")\n",
    "print(mass)"
   ]
  },
  {
   "cell_type": "code",
   "execution_count": null,
   "metadata": {},
   "outputs": [],
   "source": [
    "parameters = client.get_parameters(o.ProductSystem, model.id)\n",
    "for param in parameters:\n",
    "    print(f\"parameter: {param.name} = {param.value}\")\n",
    "param = parameters[0]"
   ]
  }
 ],
 "metadata": {
  "kernelspec": {
   "display_name": ".venv",
   "language": "python",
   "name": "python3"
  },
  "language_info": {
   "codemirror_mode": {
    "name": "ipython",
    "version": 3
   },
   "file_extension": ".py",
   "mimetype": "text/x-python",
   "name": "python",
   "nbconvert_exporter": "python",
   "pygments_lexer": "ipython3",
   "version": "3.10.8"
  }
 },
 "nbformat": 4,
 "nbformat_minor": 2
}
