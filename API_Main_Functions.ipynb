{
 "cells": [
  {
   "cell_type": "markdown",
   "metadata": {},
   "source": [
    "Initialization pof the IPC Communication \n",
    "1. Open OPENLCA, activate the relevent database\n",
    "2. Tools > Developper Tools > IPC Server > run the server with the correct port"
   ]
  },
  {
   "cell_type": "code",
   "execution_count": 1,
   "metadata": {},
   "outputs": [],
   "source": [
    "import olca_ipc as ipc\n",
    "import olca_schema as o\n",
    "import pandas as pd\n",
    "import numpy as np\n",
    "import json\n",
    "\n",
    "from typing import Callable\n",
    "###########################################################\n",
    "client = ipc.Client(8080)"
   ]
  },
  {
   "cell_type": "markdown",
   "metadata": {},
   "source": [
    "Get  descritptors of a categories : client.get_descriptors\n",
    "return properties :  https://greendelta.github.io/olca-schema/classes/Ref.html"
   ]
  },
  {
   "cell_type": "code",
   "execution_count": 12,
   "metadata": {},
   "outputs": [
    {
     "name": "stdout",
     "output_type": "stream",
     "text": [
      "electricity production :  4b9a9308-0c78-4fcd-af69-cacba6b6065d\n",
      "aluminium production :  7ca7f567-c26f-403a-aa8d-212f264f41d3\n",
      "aluminium foil production :  08e41429-497d-47a0-b09f-7cc75b35d83b\n",
      "sandwitch package production :  3dc3afa6-9de4-4aec-baea-a40d94532aa0\n",
      "electricity production :  bd726e85-aaf9-4ec9-8617-8ededa87b89d\n",
      "aluminium production :  2452531f-3588-40aa-974d-3906ae7e473e\n",
      "aluminium foil production :  14d4a152-e6b6-4374-ad4f-ec3d848307cf\n",
      "sandwitch package production :  f9231eb5-d4a7-4331-9316-7c45e603ad04\n"
     ]
    }
   ],
   "source": [
    "refs = client.get_descriptors(o.Process)\n",
    "for ref in refs:\n",
    "    print(ref.name, ': ',ref.id)\n"
   ]
  },
  {
   "cell_type": "markdown",
   "metadata": {},
   "source": [
    "Get a full data set by ID : client.get https://greendelta.github.io/olca-schema/classes/RootEntity.html"
   ]
  },
  {
   "cell_type": "code",
   "execution_count": 14,
   "metadata": {},
   "outputs": [
    {
     "name": "stdout",
     "output_type": "stream",
     "text": [
      "[Exchange(amount=1.0, amount_formula=None, base_uncertainty=None, cost_formula=None, cost_value=None, currency=None, default_provider=None, description=None, dq_entry=None, flow=Ref(id='02785128-a8a0-4310-9a93-89e96b03d771', category=None, description=None, flow_type=<FlowType.PRODUCT_FLOW: 'PRODUCT_FLOW'>, location=None, name='electricity', process_type=None, ref_unit='MJ', ref_type=<RefType.Flow: 'Flow'>), flow_property=Ref(id='8cfed32c-df03-4601-9924-4ce7c65355f7', category=None, description=None, flow_type=None, location=None, name='Energy', process_type=None, ref_unit='MJ', ref_type=<RefType.FlowProperty: 'FlowProperty'>), internal_id=1, is_avoided_product=False, is_input=False, is_quantitative_reference=True, location=None, uncertainty=None, unit=Ref(id='20586ae6-f158-46ed-9dc8-47209bac987c', category=None, description=None, flow_type=None, location=None, name='MJ', process_type=None, ref_unit=None, ref_type=<RefType.Unit: 'Unit'>)), Exchange(amount=0.01, amount_formula=None, base_uncertainty=None, cost_formula=None, cost_value=None, currency=None, default_provider=None, description=None, dq_entry=None, flow=Ref(id='3102d53a-8544-4320-81b4-d295183f1597', category=None, description=None, flow_type=<FlowType.PRODUCT_FLOW: 'PRODUCT_FLOW'>, location=None, name='aluminium', process_type=None, ref_unit='kg', ref_type=<RefType.Flow: 'Flow'>), flow_property=Ref(id='c8637ecc-5405-43c6-8db2-f0561f6cf185', category=None, description=None, flow_type=None, location=None, name='Mass', process_type=None, ref_unit='kg', ref_type=<RefType.FlowProperty: 'FlowProperty'>), internal_id=2, is_avoided_product=False, is_input=True, is_quantitative_reference=None, location=None, uncertainty=None, unit=Ref(id='681a50eb-9827-4bd8-a99e-e0658b2f42ff', category=None, description=None, flow_type=None, location=None, name='kg', process_type=None, ref_unit=None, ref_type=<RefType.Unit: 'Unit'>)), Exchange(amount=0.5, amount_formula=None, base_uncertainty=None, cost_formula=None, cost_value=None, currency=None, default_provider=None, description=None, dq_entry=None, flow=Ref(id='50183262-b513-44aa-a913-b7498b942bb4', category=None, description=None, flow_type=<FlowType.ELEMENTARY_FLOW: 'ELEMENTARY_FLOW'>, location=None, name='crude oil', process_type=None, ref_unit='kg', ref_type=<RefType.Flow: 'Flow'>), flow_property=Ref(id='c8637ecc-5405-43c6-8db2-f0561f6cf185', category=None, description=None, flow_type=None, location=None, name='Mass', process_type=None, ref_unit='kg', ref_type=<RefType.FlowProperty: 'FlowProperty'>), internal_id=3, is_avoided_product=False, is_input=True, is_quantitative_reference=None, location=None, uncertainty=None, unit=Ref(id='681a50eb-9827-4bd8-a99e-e0658b2f42ff', category=None, description=None, flow_type=None, location=None, name='kg', process_type=None, ref_unit=None, ref_type=<RefType.Unit: 'Unit'>)), Exchange(amount=3.0, amount_formula=None, base_uncertainty=None, cost_formula=None, cost_value=None, currency=None, default_provider=None, description=None, dq_entry=None, flow=Ref(id='b1310e56-8514-4223-9b71-811550716a02', category=None, description=None, flow_type=<FlowType.ELEMENTARY_FLOW: 'ELEMENTARY_FLOW'>, location=None, name='CO2', process_type=None, ref_unit='kg', ref_type=<RefType.Flow: 'Flow'>), flow_property=Ref(id='c8637ecc-5405-43c6-8db2-f0561f6cf185', category=None, description=None, flow_type=None, location=None, name='Mass', process_type=None, ref_unit='kg', ref_type=<RefType.FlowProperty: 'FlowProperty'>), internal_id=4, is_avoided_product=False, is_input=False, is_quantitative_reference=None, location=None, uncertainty=None, unit=Ref(id='681a50eb-9827-4bd8-a99e-e0658b2f42ff', category=None, description=None, flow_type=None, location=None, name='kg', process_type=None, ref_unit=None, ref_type=<RefType.Unit: 'Unit'>)), Exchange(amount=2.0, amount_formula=None, base_uncertainty=None, cost_formula=None, cost_value=None, currency=None, default_provider=None, description=None, dq_entry=None, flow=Ref(id='be0270a2-f75f-4d93-ab89-b55e39e80859', category=None, description=None, flow_type=<FlowType.ELEMENTARY_FLOW: 'ELEMENTARY_FLOW'>, location=None, name='solid waste', process_type=None, ref_unit='kg', ref_type=<RefType.Flow: 'Flow'>), flow_property=Ref(id='c8637ecc-5405-43c6-8db2-f0561f6cf185', category=None, description=None, flow_type=None, location=None, name='Mass', process_type=None, ref_unit='kg', ref_type=<RefType.FlowProperty: 'FlowProperty'>), internal_id=5, is_avoided_product=False, is_input=False, is_quantitative_reference=None, location=None, uncertainty=None, unit=Ref(id='681a50eb-9827-4bd8-a99e-e0658b2f42ff', category=None, description=None, flow_type=None, location=None, name='kg', process_type=None, ref_unit=None, ref_type=<RefType.Unit: 'Unit'>))]\n"
     ]
    }
   ],
   "source": [
    "process = client.get(o.Process,\"bd726e85-aaf9-4ec9-8617-8ededa87b89d\")\n",
    "print(process.exchanges)"
   ]
  },
  {
   "cell_type": "markdown",
   "metadata": {},
   "source": [
    "Get a data set by name "
   ]
  },
  {
   "cell_type": "code",
   "execution_count": 15,
   "metadata": {},
   "outputs": [
    {
     "name": "stdout",
     "output_type": "stream",
     "text": [
      "FlowProperty(id='93a60a56-a3c8-11da-a746-0800200b9a66', category='Technical flow properties', description='', flow_property_type=<FlowPropertyType.PHYSICAL_QUANTITY: 'PHYSICAL_QUANTITY'>, last_change='2023-11-20T08:48:48.977100Z', name='Mass', tags=None, unit_group=Ref(id='93a60a57-a4c8-11da-a746-0800200c9a66', category='Technical unit groups', description=None, flow_type=None, location=None, name='Units of mass', process_type=None, ref_unit=None, ref_type=<RefType.UnitGroup: 'UnitGroup'>), version='00.00.000')\n"
     ]
    }
   ],
   "source": [
    "mass = client.get(o.FlowProperty, name=\"Mass\")\n",
    "print(mass)"
   ]
  },
  {
   "cell_type": "code",
   "execution_count": null,
   "metadata": {},
   "outputs": [
    {
     "name": "stdout",
     "output_type": "stream",
     "text": [
      "parameter: NRJ_Intensivity = 1.0\n"
     ]
    }
   ],
   "source": [
    "parameters = client.get_parameters(o.ProductSystem, model.id)\n",
    "for param in parameters:\n",
    "    print(f\"parameter: {param.name} = {param.value}\")\n",
    "param = parameters[0]"
   ]
  }
 ],
 "metadata": {
  "kernelspec": {
   "display_name": ".venv",
   "language": "python",
   "name": "python3"
  },
  "language_info": {
   "codemirror_mode": {
    "name": "ipython",
    "version": 3
   },
   "file_extension": ".py",
   "mimetype": "text/x-python",
   "name": "python",
   "nbconvert_exporter": "python",
   "pygments_lexer": "ipython3",
   "version": "3.11.6"
  }
 },
 "nbformat": 4,
 "nbformat_minor": 2
}
