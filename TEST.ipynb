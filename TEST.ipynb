{
 "cells": [
  {
   "cell_type": "markdown",
   "metadata": {},
   "source": [
    "Initialization pof the IPC Communication \n",
    "1. Open OPENLCA, activate the relevent database\n",
    "2. Tools > Developper Tools > IPC Server > run the server with the correct port"
   ]
  },
  {
   "cell_type": "code",
   "execution_count": 1,
   "metadata": {},
   "outputs": [],
   "source": [
    "import olca_ipc as ipc\n",
    "import olca_schema as o\n",
    "import pandas as pd\n",
    "import numpy as np\n",
    "import json\n",
    "import uuid\n",
    "\n",
    "from typing import Callable\n",
    "###########################################################\n",
    "client = ipc.Client(8080)"
   ]
  },
  {
   "cell_type": "markdown",
   "metadata": {},
   "source": [
    "Technosphere matrice for 4 process with the 4 process \n"
   ]
  },
  {
   "cell_type": "code",
   "execution_count": 14,
   "metadata": {},
   "outputs": [
    {
     "name": "stdout",
     "output_type": "stream",
     "text": [
      "                             electricity production  aluminium production  \\\n",
      "electricity [MJ]                               1.00                 -50.0   \n",
      "aluminium [kg]                                -0.01                   1.0   \n",
      "aluminium foil [kg]                            0.00                   0.0   \n",
      "sandwitch package [Item(s)]                    0.00                   0.0   \n",
      "\n",
      "                             aluminium foil production  \\\n",
      "electricity [MJ]                                  -1.0   \n",
      "aluminium [kg]                                    -1.0   \n",
      "aluminium foil [kg]                                1.0   \n",
      "sandwitch package [Item(s)]                        0.0   \n",
      "\n",
      "                             sandwitch package production  \n",
      "electricity [MJ]                                      0.0  \n",
      "aluminium [kg]                                        0.0  \n",
      "aluminium foil [kg]                                  -1.0  \n",
      "sandwitch package [Item(s)]                         100.0  \n"
     ]
    }
   ],
   "source": [
    "technosphere = pd.DataFrame(\n",
    "    data=[\n",
    "        [1.0, -50.0, -1.0, 0.0],\n",
    "        [-0.01, 1.0, -1.0, 0.0],\n",
    "        [0.0, 0.0, 1.0, -1.0],\n",
    "        [0.0, 0.0, 0.0, 100],\n",
    "    ],\n",
    "    columns=[\n",
    "        \"electricity production\",\n",
    "        \"aluminium production\",\n",
    "        \"aluminium foil production\",\n",
    "        \"sandwitch package production\",\n",
    "    ],\n",
    "    index=[\n",
    "        \"electricity [MJ]\",\n",
    "        \"aluminium [kg]\",\n",
    "        \"aluminium foil [kg]\",\n",
    "        \"sandwitch package [Item(s)]\",\n",
    "    ],\n",
    ")\n",
    "print(technosphere)"
   ]
  },
  {
   "cell_type": "markdown",
   "metadata": {},
   "source": [
    "technosphere to biosphere "
   ]
  },
  {
   "cell_type": "code",
   "execution_count": 15,
   "metadata": {},
   "outputs": [
    {
     "name": "stdout",
     "output_type": "stream",
     "text": [
      "                  electricity production  aluminium production  \\\n",
      "bauxite [kg]                         0.0                  -5.0   \n",
      "crude oil [kg]                      -0.5                   0.0   \n",
      "CO2 [kg]                             3.0                   0.0   \n",
      "solid waste [kg]                     2.0                  10.0   \n",
      "\n",
      "                  aluminium foil production  sandwitch package production  \n",
      "bauxite [kg]                            0.0                           0.0  \n",
      "crude oil [kg]                          0.0                           0.0  \n",
      "CO2 [kg]                                0.0                           0.0  \n",
      "solid waste [kg]                        0.0                           1.0  \n"
     ]
    }
   ],
   "source": [
    "interventions = pd.DataFrame(\n",
    "    data=[\n",
    "        [0.0, -5.0, 0.0, 0.0],\n",
    "        [-0.5, 0.0, 0.0, 0.0],\n",
    "        [3.0, 0.0, 0.0, 0.0],\n",
    "        [2.0, 10.0, 0.0, 1.0],\n",
    "    ],\n",
    "    columns=technosphere.columns,\n",
    "    index=[\n",
    "        \"bauxite [kg]\",\n",
    "        \"crude oil [kg]\",\n",
    "        \"CO2 [kg]\",\n",
    "        \"solid waste [kg]\",\n",
    "    ],\n",
    ")\n",
    "print(interventions)"
   ]
  },
  {
   "cell_type": "code",
   "execution_count": 16,
   "metadata": {},
   "outputs": [
    {
     "name": "stdout",
     "output_type": "stream",
     "text": [
      "                      0\n",
      "bauxite [kg]      -1.01\n",
      "crude oil [kg]    -5.10\n",
      "CO2 [kg]          30.60\n",
      "solid waste [kg]  22.52\n"
     ]
    }
   ],
   "source": [
    "f = [\n",
    "    0.0,\n",
    "    0.0,\n",
    "    0.0,\n",
    "    10,\n",
    "]\n",
    "s = np.linalg.solve(technosphere.to_numpy(), f)\n",
    "g = interventions.to_numpy() @ s\n",
    "print(pd.DataFrame(g, index=interventions.index))"
   ]
  },
  {
   "cell_type": "code",
   "execution_count": 2,
   "metadata": {},
   "outputs": [
    {
     "name": "stdout",
     "output_type": "stream",
     "text": [
      "{\n",
      "  \"@type\": \"FlowProperty\",\n",
      "  \"@id\": \"66c1e27d-b328-4404-b4d8-0093717446fb\",\n",
      "  \"lastChange\": \"2023-11-22T14:26:32.211Z\",\n",
      "  \"name\": \"Mass\",\n",
      "  \"unitGroup\": {\n",
      "    \"@type\": \"UnitGroup\",\n",
      "    \"@id\": \"26637244-01e9-4ffb-94ba-949d9d9ae6b5\",\n",
      "    \"name\": \"Mass units\"\n",
      "  },\n",
      "  \"version\": \"01.00.000\"\n",
      "}\n"
     ]
    }
   ],
   "source": [
    "mass_units = o.new_unit_group(\"Mass units\", \"kg\")\n",
    "energy_units = o.new_unit_group(\"Energy units\", \"MJ\")\n",
    "counting_units = o.new_unit_group(\"Counting units\", \"Item(s)\")\n",
    "mass = o.new_flow_property(\"Mass\", mass_units)\n",
    "energy = o.new_flow_property(\"Energy\", energy_units)\n",
    "count = o.new_flow_property(\"Number of items\", counting_units)\n",
    "\n",
    "client.put_all(\n",
    "    mass_units,\n",
    "    energy_units,\n",
    "    counting_units,\n",
    "    mass,\n",
    "    energy,\n",
    "    count,\n",
    ")\n",
    "print(client.get(o.FlowProperty, name=\"Mass\").to_json())"
   ]
  },
  {
   "cell_type": "code",
   "execution_count": 18,
   "metadata": {},
   "outputs": [],
   "source": [
    "def create_flow(\n",
    "    row_label: str, fn: Callable[[str, o.FlowProperty], o.Flow]\n",
    ") -> o.Flow:\n",
    "    parts = row_label.split(\"[\")\n",
    "    name = parts[0].strip()\n",
    "    unit = parts[1][0:-1].strip()\n",
    "    match unit:\n",
    "        case \"kg\":\n",
    "            prop = mass\n",
    "        case \"MJ\":\n",
    "            prop = energy\n",
    "        case \"Item(s)\":\n",
    "            prop = count\n",
    "    flow = fn(name, prop)\n",
    "    client.put(flow)\n",
    "    return flow\n",
    "\n",
    "\n",
    "tech_flows = [create_flow(label, o.new_product) for label in technosphere.index]\n",
    "envi_flows = [\n",
    "    create_flow(label, o.new_elementary_flow) for label in interventions.index\n",
    "]"
   ]
  },
  {
   "cell_type": "code",
   "execution_count": 23,
   "metadata": {},
   "outputs": [],
   "source": [
    "def create_process(index: int, name: str) -> o.Process:\n",
    "    process = o.new_process(name)\n",
    "\n",
    "    def exchange(flow: o.Flow, value: float) -> o.Exchange | None:\n",
    "        if value == 0:\n",
    "            return None\n",
    "        if value < 0:\n",
    "            return o.new_input(process, flow, abs(value))\n",
    "        else:\n",
    "            return o.new_output(process, flow, value)\n",
    "\n",
    "    for (i, tech_flow) in enumerate(tech_flows):\n",
    "        value = technosphere.iat[i, index]\n",
    "        e = exchange(tech_flow, value)\n",
    "        if e and i == index:\n",
    "            e.is_quantitative_reference = True\n",
    "\n",
    "    for (i, envi_flow) in enumerate(envi_flows):\n",
    "        value = interventions.iat[i, index]\n",
    "        exchange(envi_flow, value)\n",
    "\n",
    "    client.put(process)\n",
    "    return process\n",
    "\n",
    "\n",
    "processes = [\n",
    "    create_process(index, name)\n",
    "    for (index, name) in enumerate(technosphere.columns)\n",
    "]"
   ]
  },
  {
   "cell_type": "markdown",
   "metadata": {},
   "source": [
    "Calculation setup 1"
   ]
  },
  {
   "cell_type": "code",
   "execution_count": 20,
   "metadata": {},
   "outputs": [
    {
     "name": "stdout",
     "output_type": "stream",
     "text": [
      "          Flow  Is input?  Amount Unit\n",
      "0          CO2      False   30.60   kg\n",
      "1  solid waste      False   22.52   kg\n",
      "2    crude oil       True    5.10   kg\n",
      "3      bauxite       True    1.01   kg\n"
     ]
    }
   ],
   "source": [
    "setup = o.CalculationSetup(\n",
    "    target=o.Ref(ref_type=o.RefType.Process, id=processes[3].id),\n",
    "    unit=count.unit_group.ref_unit,  # \"Item(s)\"\n",
    "    amount=10,\n",
    ")\n",
    "result = client.calculate(setup)\n",
    "result.wait_until_ready()\n",
    "\n",
    "inventory = result.get_total_flows()\n",
    "print(\n",
    "    pd.DataFrame(\n",
    "        data=[\n",
    "            (\n",
    "                i.envi_flow.flow.name,\n",
    "                i.envi_flow.is_input,\n",
    "                i.amount,\n",
    "                i.envi_flow.flow.ref_unit,\n",
    "            )\n",
    "            for i in inventory\n",
    "        ],\n",
    "        columns=[\"Flow\", \"Is input?\", \"Amount\", \"Unit\"],\n",
    "    )\n",
    ")\n",
    "\n",
    "result.dispose()"
   ]
  },
  {
   "cell_type": "code",
   "execution_count": 22,
   "metadata": {},
   "outputs": [
    {
     "name": "stdout",
     "output_type": "stream",
     "text": [
      "Testing :: 5b745732-bb1b-4425-adca-60088e9d9201\n"
     ]
    }
   ],
   "source": [
    "models = client.get_descriptors(o.ProductSystem)\n",
    "for model in models:\n",
    "    print(f\"{model.name} :: {model.id}\")\n",
    "\n",
    "\n",
    "methods = client.get_descriptors(o.ImpactMethod)\n",
    "for method in methods:\n",
    "    print(f\"{method.name} :: {method.id}\")\n",
    "method = methods[0]"
   ]
  },
  {
   "cell_type": "markdown",
   "metadata": {},
   "source": [
    "Calculation setup 2\n"
   ]
  },
  {
   "cell_type": "code",
   "execution_count": null,
   "metadata": {},
   "outputs": [],
   "source": [
    "setup = o.CalculationSetup(\n",
    "    target=model,\n",
    "    impact_method=method,\n",
    ")\n",
    "print(json.dumps(setup.to_dict(), indent=2))\n",
    "##### Calculation ####\n",
    "result = client.calculate(setup)\n",
    "result.wait_until_ready()\n",
    "impacts = result.get_total_impacts()\n",
    "for i in impacts:\n",
    "    assert i.impact_category\n",
    "    print(f\"{i.impact_category.name} {i.amount} {i.impact_category.ref_unit}\")\n",
    "result.dispose()\n",
    "\n"
   ]
  },
  {
   "cell_type": "markdown",
   "metadata": {},
   "source": [
    "Parameters"
   ]
  },
  {
   "cell_type": "code",
   "execution_count": null,
   "metadata": {},
   "outputs": [],
   "source": [
    "parameters = client.get_parameters(o.ProductSystem, model.id)\n",
    "for param in parameters:\n",
    "    print(f\"parameter: {param.name} = {param.value}\")\n",
    "param = parameters[0]"
   ]
  },
  {
   "cell_type": "markdown",
   "metadata": {},
   "source": [
    "Adjust the NRJ Intensity\n"
   ]
  },
  {
   "cell_type": "code",
   "execution_count": null,
   "metadata": {},
   "outputs": [],
   "source": [
    "\n",
    "### TESTING ####\n",
    "A = o.ParameterRedef(name='NRJ_Intensivity', value = 30)\n",
    "print (A)\n",
    "for param in parameters:\n",
    "    print(f\"parameter: {param.name} = {param.value}\")\n",
    "param = parameters[0]"
   ]
  },
  {
   "cell_type": "code",
   "execution_count": null,
   "metadata": {},
   "outputs": [],
   "source": [
    "#### TESTING ###\n",
    "\n",
    "A = param.context\n",
    "print (A)"
   ]
  },
  {
   "cell_type": "code",
   "execution_count": null,
   "metadata": {},
   "outputs": [],
   "source": [
    "for x in range(0, 10, 1):\n",
    "    setup = o.CalculationSetup(\n",
    "        target=model,\n",
    "        impact_method=method,\n",
    "        parameters=[\n",
    "            o.ParameterRedef(name='NRJ_Intensivity', value=x,context=param.context)\n",
    "        ],\n",
    "    )\n",
    "    result = client.calculate(setup)\n",
    "    assert result\n",
    "    result.wait_until_ready()\n",
    "    impacts = result.get_total_impacts()\n",
    "    for i in impacts:\n",
    "        if i.impact_category.name == \"Climate change, long term\":\n",
    "            print(f\"{param.name}: {x} => {i.amount : .3f} kg CO2 eq\")\n",
    "    result.dispose()\n",
    "\n"
   ]
  },
  {
   "cell_type": "code",
   "execution_count": null,
   "metadata": {},
   "outputs": [],
   "source": [
    "refs = client.get_descriptors(o.FlowProperty)\n",
    "for ref in refs:\n",
    "    print(ref.name)\n",
    "# Area\n",
    "# Area*time\n",
    "# Duration\n",
    "# Energy"
   ]
  }
 ],
 "metadata": {
  "kernelspec": {
   "display_name": ".venv",
   "language": "python",
   "name": "python3"
  },
  "language_info": {
   "codemirror_mode": {
    "name": "ipython",
    "version": 3
   },
   "file_extension": ".py",
   "mimetype": "text/x-python",
   "name": "python",
   "nbconvert_exporter": "python",
   "pygments_lexer": "ipython3",
   "version": "3.11.6"
  }
 },
 "nbformat": 4,
 "nbformat_minor": 2
}
