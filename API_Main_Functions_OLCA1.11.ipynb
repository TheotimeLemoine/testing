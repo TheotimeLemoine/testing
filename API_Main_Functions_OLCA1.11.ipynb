{
 "cells": [
  {
   "cell_type": "markdown",
   "metadata": {},
   "source": [
    "Initialization pof the IPC Communication \n",
    "1. Open OPENLCA, activate the relevent database\n",
    "2. Tools > Developper Tools > IPC Server > run the server with the correct port\n",
    "\n",
    "Help on the functions : https://greendelta.github.io/olca-ipc.py/olca/ipc.html#olca.ipc.Client.find\n",
    "\n",
    "2 virtual environment :\n",
    "\n",
    "-.venv : olca\n",
    "\n",
    "-.test : olca_ipc"
   ]
  },
  {
   "cell_type": "code",
   "execution_count": 34,
   "metadata": {},
   "outputs": [],
   "source": [
    "import pandas as pd\n",
    "import numpy as np\n",
    "import json\n",
    "from tabulate import tabulate\n",
    "import random as rand\n",
    "import statistics as stats\n",
    "import matplotlib as mp\n",
    "import matplotlib.pyplot as plt\n",
    "import scipy.stats as stat\n",
    "#import olca as ipc\n",
    "import olca_ipc as ipc\n",
    "import olca_schema as o\n",
    "\n",
    "\n",
    "from typing import Callable\n",
    "###########################################################\n",
    "client = ipc.Client(8080)"
   ]
  },
  {
   "cell_type": "markdown",
   "metadata": {},
   "source": [
    "Finding a dataset and get Infos on it \n",
    "\n",
    "<font size=3px>Find a data set knowing it's type as well as one of the properties, useful to extract osme other properties such as the id , etc .... Finds only the first one, (if same name for example)</font>"
   ]
  },
  {
   "cell_type": "code",
   "execution_count": null,
   "metadata": {},
   "outputs": [],
   "source": [
    "A = client.find(o.Process, \"aluminium foil production\")\n",
    "print(A)\n",
    "print(A.id)"
   ]
  },
  {
   "cell_type": "markdown",
   "metadata": {},
   "source": [
    "Get  descritptors of a dataset : client.get_descriptors\n",
    "return properties :  https://greendelta.github.io/olca-schema/classes/Ref.html\n",
    "\n",
    "<font size=3px>This function is useful for exploring the content of a database. It returns a list of data set descriptors for a given data set type. A descriptor contains just a few information, like the name or category path, to understand the content of a data set. Descriptors are valid data set references; they can be used to reference a data set in a given context (e.g. referencing a process as calculation target in a calculation setup).</font>\n",
    "\n"
   ]
  },
  {
   "cell_type": "code",
   "execution_count": null,
   "metadata": {},
   "outputs": [],
   "source": [
    "refs = client.get_descriptors(o.Process)\n",
    "for ref in refs:\n",
    "    print(ref.name, ': ',ref.id)\n",
    "\n",
    "\n",
    "    \n"
   ]
  },
  {
   "cell_type": "markdown",
   "metadata": {},
   "source": [
    "Get a full data set of a given type and ID : client.get https://greendelta.github.io/olca-schema/classes/RootEntity.html"
   ]
  },
  {
   "cell_type": "code",
   "execution_count": null,
   "metadata": {},
   "outputs": [],
   "source": [
    "process = client.get(o.Process,\"bd726e85-aaf9-4ec9-8617-8ededa87b89d\")\n",
    "print (tabulate(process.exchanges,headers=\"keys\"))"
   ]
  },
  {
   "cell_type": "markdown",
   "metadata": {},
   "source": [
    "Similarly Get a data set by a given type & a name \n",
    "\n",
    "<font size=3px>Note that the name does not have to be unique in an openLCA database, and in this case, it will just return the first entity from the database with the given name.</font>"
   ]
  },
  {
   "cell_type": "code",
   "execution_count": null,
   "metadata": {},
   "outputs": [],
   "source": [
    "mass = client.get(o.FlowProperty, name=\"Mass\")\n",
    "print(mass)"
   ]
  },
  {
   "cell_type": "markdown",
   "metadata": {},
   "source": [
    "Get all data sets of a given type using .get_all  , this produce a list object with each dataset of the datatype\n",
    "\n",
    "<font size=3px>Returns all data sets of a given type from a database. This is not a practical method for all types of data sets and may is not available in a specific context. For example, it is fine to get all unit groups but a server would go down when you query for all processes in a large database. Typically, you just want to query all descriptors of a data set type.</font>"
   ]
  },
  {
   "cell_type": "code",
   "execution_count": null,
   "metadata": {},
   "outputs": [],
   "source": [
    "allin = client.get_all(o.ProductSystem)\n",
    "print(tabulate(allin,headers=\"keys\"))"
   ]
  },
  {
   "cell_type": "code",
   "execution_count": null,
   "metadata": {},
   "outputs": [],
   "source": [
    "### If you want to print only a specific attribute, since it is a list you need to print in a for loop\n",
    "for group in client.get_all(o.ProductSystem):\n",
    "    print(group.name)"
   ]
  },
  {
   "cell_type": "markdown",
   "metadata": {},
   "source": [
    "Get the parameters of a data set \n",
    "\n",
    "Returns the (local) parameters of the specified data set. In case of processes and impact categories, a list of parameters is returned. For product systems, the respective parameter redefinitions are returned."
   ]
  },
  {
   "cell_type": "code",
   "execution_count": null,
   "metadata": {},
   "outputs": [],
   "source": [
    "parameters = client.get_parameters(o.ProductSystem, group.id)\n",
    "for param in parameters:\n",
    "    print(f\"parameter: {param.name} = {param.value}\", f\"     Product System: {group.name}\")\n",
    "param = parameters[0]"
   ]
  },
  {
   "cell_type": "code",
   "execution_count": null,
   "metadata": {},
   "outputs": [],
   "source": [
    "### In case the ID of the dataset is not known , one can read the list of all the datas and select the correct dataset using name or other parameters\n",
    "Product_Syst_name = \"sandwitch package production\"\n",
    "parameters = client.get_parameters(o.ProductSystem, client.find(o.ProductSystem,name=Product_Syst_name).id)\n",
    "for param in parameters:\n",
    "  print(f\"parameter: {param.name} = {param.value}\", f\"     Product System: {Product_Syst_name}\")\n"
   ]
  },
  {
   "cell_type": "markdown",
   "metadata": {},
   "source": [
    "Get the providers of  technosphere flowos gives a flow ref & a provider process ref\n",
    "\n",
    "\n",
    "<font size=3px>Technosphere flows are products or waste flows that can be linked in a product system model. For products, the providers are processes that produce this product as output. For waste flows, providers are waste treatment processes with an input of that waste flow. These provider and flow pairs can be linked to product inputs and waste outputs of other processes in a product system.</font>"
   ]
  },
  {
   "cell_type": "code",
   "execution_count": null,
   "metadata": {},
   "outputs": [],
   "source": [
    "for p in client.get_providers():\n",
    "    print (p.provider)\n",
    "print(tabulate(client.get_providers(),headers=\"keys\"))\n",
    "print(len(client.get_providers()))"
   ]
  },
  {
   "cell_type": "code",
   "execution_count": null,
   "metadata": {},
   "outputs": [],
   "source": [
    "### For a specific flow\n",
    "providers = client.get_providers(\n",
    "    flow=o.Ref(id=\"3102d53a-8544-4320-81b4-d295183f1597\")\n",
    ")\n",
    "for p in providers:\n",
    "    print(p)"
   ]
  },
  {
   "cell_type": "markdown",
   "metadata": {},
   "source": [
    "Insert a data set // Needs the root entity\n",
    "\n",
    "<font size=3px>Inserts or updates a provided data set in the database. This method is not available when a server runs in read-only mode.</font>"
   ]
  },
  {
   "cell_type": "code",
   "execution_count": null,
   "metadata": {},
   "outputs": [],
   "source": [
    "ref = client.put(o.Source(name=\"Inter-process communication with openLCA\",description=\"Test of updating a description from the API. Canyou update it ?\"))\n",
    "print(ref)\n"
   ]
  },
  {
   "cell_type": "markdown",
   "metadata": {},
   "source": [
    "Update a data set // Needs the root entity\n",
    "\n",
    "<font size=3px>To update a dataset, first step is to get the id of the dataset and use the same command. This method is not available when a server runs in read-only mode.</font>"
   ]
  },
  {
   "cell_type": "code",
   "execution_count": null,
   "metadata": {},
   "outputs": [],
   "source": [
    "###### Properties (In this case, name) \n",
    "Process_name = \"Inter-process communication with openLCA\"\n",
    "##### Be carful of the data set type\n",
    "Updt = client.put(o.Source(id=client.get(o.Source, name=Process_name).id\n",
    "                           ,name=Process_name,description=\"Test of updating a description from the API. Can you update it ?  Like really ?\"))\n",
    "#print(Updt)"
   ]
  },
  {
   "cell_type": "markdown",
   "metadata": {},
   "source": [
    "Duplicate a data set with a new name// Needs the root entity\n",
    "\n",
    "<font size=3px>To update a dataset, first step is to get the id of the dataset and use the same command. This method is not available when a server runs in read-only mode.</font>"
   ]
  },
  {
   "cell_type": "code",
   "execution_count": null,
   "metadata": {},
   "outputs": [],
   "source": [
    "###### Properties (In this case, name) \n",
    "Duplicate_name = \"aluminium foil production\"\n",
    "Duplicata = client.get(o.Process, name=Duplicate_name)\n",
    "print(Duplicata.id)"
   ]
  },
  {
   "cell_type": "code",
   "execution_count": null,
   "metadata": {},
   "outputs": [],
   "source": [
    "### Copy past the ID with a modification bellow\n",
    "Duplicata.id = '08e41429-497d-47a0-b09f-7cc75b35d83c'\n",
    "Duplicata.name = f\"{Duplicate_name} _ Copy\"\n",
    "##### Be carful of the data set type\n",
    "Duplicate = client.put(Duplicata)\n",
    "print (\"Created a copy of\", Duplicata.name , \"     with ID : \", Duplicata.id)"
   ]
  },
  {
   "cell_type": "markdown",
   "metadata": {},
   "source": [
    "Delete a dataset // Needs the root entity\n",
    "\n",
    "<font size=3px>Deletes the specified data set from the database. This method is not available when the server runs in read-only mode.</font>"
   ]
  },
  {
   "cell_type": "code",
   "execution_count": null,
   "metadata": {},
   "outputs": [],
   "source": [
    "ref = client.delete(\n",
    "    o.Ref(ref_type=o.RefType.Source, id =client.get(o.Source, name=Process_name).id)\n",
    ")\n",
    "print(ref)"
   ]
  },
  {
   "cell_type": "markdown",
   "metadata": {},
   "source": [
    "Create a Product System // Needs the root entity\n",
    "\n",
    "<font size=3px>This method creates a product system for a given process. It recursively links the processes of that system according to the given linking configuration.\n",
    "\n",
    "Linking config : https://greendelta.github.io/olca-schema/classes/LinkingConfig.html </font>"
   ]
  },
  {
   "cell_type": "code",
   "execution_count": 2,
   "metadata": {},
   "outputs": [
    {
     "name": "stdout",
     "output_type": "stream",
     "text": [
      "Ref(id='28e1e90d-2edf-409e-9b21-bd74b0a60e44', category=None, description=None, flow_type=None, location=None, name='aluminium foil production', process_type=None, ref_unit=None, ref_type=<RefType.ProductSystem: 'ProductSystem'>)\n",
      "created product system aluminium foil production, id=28e1e90d-2edf-409e-9b21-bd74b0a60e44\n"
     ]
    }
   ],
   "source": [
    "process_ref = client.find(o.Process, \"aluminium foil production\")\n",
    "\n",
    "config = o.LinkingConfig(\n",
    "    prefer_unit_processes=True,\n",
    "    provider_linking=o.ProviderLinking.PREFER_DEFAULTS,\n",
    ")\n",
    "system_ref = client.create_product_system(process_ref, config)\n",
    "print (system_ref)\n",
    "print(f\"created product system {system_ref.name}, id={system_ref.id}\")"
   ]
  },
  {
   "cell_type": "markdown",
   "metadata": {},
   "source": [
    "<font size=10px>Calculate Results</font>\n",
    "\n",
    "<font size=3px>This method schedules a new calculation for a given setup. It directly returns a state object that contains the result ID (field @id). With this ID the the result state can be queried. </font>"
   ]
  },
  {
   "cell_type": "code",
   "execution_count": 89,
   "metadata": {},
   "outputs": [
    {
     "name": "stdout",
     "output_type": "stream",
     "text": [
      "aluminium foil production :: 28e1e90d-2edf-409e-9b21-bd74b0a60e44\n",
      "Testing :: 5b745732-bb1b-4425-adca-60088e9d9201\n"
     ]
    }
   ],
   "source": [
    "### Check all the product system available\n",
    "models = client.get_descriptors(o.ProductSystem)\n",
    "for model in models:\n",
    "    print(f\"{model.name} :: {model.id}\")\n",
    "\n",
    "#### CHeck all the impact model available\n",
    "methods = client.get_descriptors(o.ImpactMethod)\n",
    "for method in methods:\n",
    "    print(f\"{method.name} :: {method.id}\")\n"
   ]
  },
  {
   "cell_type": "code",
   "execution_count": 90,
   "metadata": {},
   "outputs": [],
   "source": [
    "## Direct Selection \n",
    "model = client.find (o.ProductSystem, name = \"aluminium foil production\")\n",
    "\n",
    "method = client.find(o.ImpactMethod, name=\"Testing\")"
   ]
  },
  {
   "cell_type": "code",
   "execution_count": 92,
   "metadata": {},
   "outputs": [
    {
     "name": "stdout",
     "output_type": "stream",
     "text": [
      "aluminium foil production using the  assessment Testing\n"
     ]
    }
   ],
   "source": [
    "# Select product Model & Impact assessment method \n",
    "print (model.name, \"using the  assessment\",method.name)\n",
    "\n",
    "# create a calculation setup\n",
    "setup = o.CalculationSetup(\n",
    "    target= model,\n",
    "    impact_method=method,\n",
    ")\n",
    "\n",
    "# run a calculation\n",
    "client = ipc.Client()\n",
    "result: ipc.Result = client.calculate(setup)\n"
   ]
  },
  {
   "cell_type": "code",
   "execution_count": 93,
   "metadata": {},
   "outputs": [
    {
     "name": "stdout",
     "output_type": "stream",
     "text": [
      "result id: e9da60c5-a254-4d07-8951-62fe684bcd0e\n",
      "<olca_ipc.ipc.Client object at 0x00000161AC300DD0>\n"
     ]
    }
   ],
   "source": [
    "### Check if Any error\n",
    "state = result.get_state()\n",
    "if state.error:\n",
    "    print(f\"calculation failed: {state.error}\")\n",
    "    exit(-1)\n",
    "\n",
    "\n",
    "# or better do this:\n",
    "state = result.wait_until_ready()\n",
    "print(f\"result id: {state.id}\")\n",
    "print(client)"
   ]
  },
  {
   "cell_type": "code",
   "execution_count": 94,
   "metadata": {},
   "outputs": [
    {
     "name": "stdout",
     "output_type": "stream",
     "text": [
      "Climate change 328.0 kg C02-eq\n"
     ]
    }
   ],
   "source": [
    "A = result.get_total_impacts()\n",
    "for i in A:\n",
    "    assert i.impact_category\n",
    "    print(f\"{i.impact_category.name} {i.amount} {i.impact_category.ref_unit}\")\n"
   ]
  },
  {
   "cell_type": "code",
   "execution_count": 95,
   "metadata": {},
   "outputs": [
    {
     "name": "stdout",
     "output_type": "stream",
     "text": [
      "          Flow  Is input?  Amount Unit\n",
      "0  solid waste      False   112.0   kg\n",
      "1          CO2      False   328.0   kg\n",
      "2    crude oil       True    25.5   kg\n",
      "3      bauxite       True     5.0   kg\n"
     ]
    }
   ],
   "source": [
    "inventory = result.get_total_flows()\n",
    "print(\n",
    "    pd.DataFrame(\n",
    "        data=[\n",
    "            (\n",
    "                i.envi_flow.flow.name,\n",
    "                i.envi_flow.is_input,\n",
    "                i.amount,\n",
    "                i.envi_flow.flow.ref_unit,\n",
    "            )\n",
    "            for i in inventory\n",
    "        ],\n",
    "        columns=[\"Flow\", \"Is input?\", \"Amount\", \"Unit\"],\n",
    "    )\n",
    ")\n"
   ]
  },
  {
   "cell_type": "code",
   "execution_count": null,
   "metadata": {},
   "outputs": [],
   "source": [
    "# it is important to dispose a result when it is not needed anymore\n",
    "result.dispose()"
   ]
  },
  {
   "cell_type": "markdown",
   "metadata": {},
   "source": [
    "<font size=10px>Monte Carlo Simulations</font>\n",
    "\n",
    "<font size=3px>Running a Monte Carlo Simulation is similar to a normal calculation. You first call the simulate method with a calculation setup. This schedules a first simulation run.  </font>"
   ]
  },
  {
   "cell_type": "code",
   "execution_count": null,
   "metadata": {},
   "outputs": [],
   "source": [
    "import random as rand\n",
    "import statistics as stats\n",
    "import matplotlib as mp\n",
    "import matplotlib.pyplot as plt\n",
    "#####\n",
    "client = ipc.Client(8080)\n"
   ]
  },
  {
   "cell_type": "code",
   "execution_count": null,
   "metadata": {},
   "outputs": [],
   "source": [
    "models = client.get_descriptors(o.ProductSystem)\n",
    "for model in models:\n",
    "    print(f\"{model.name} :: {model.id}\")\n",
    "model = models[0]\n",
    "\n",
    "methods = client.get_descriptors(o.ImpactMethod)\n",
    "for method in methods:\n",
    "    print(f\"{method.name} :: {method.id}\")\n",
    "method = methods[0]"
   ]
  },
  {
   "cell_type": "code",
   "execution_count": null,
   "metadata": {},
   "outputs": [],
   "source": [
    "print(\"run iteration 1\")\n",
    "result = client.simulate(\n",
    "    o.CalculationSetup(\n",
    "        target=o.Ref(\n",
    "        ref_type=o.RefType.ProductSystem,\n",
    "        id=client.get(o.ProductSystem,name = \"sandwitch package production\").id,\n",
    "        ),\n",
    "    impact_method=o.Ref(method.id),\n",
    "    )\n",
    ")\n",
    "### Check if Any error\n",
    "state = result.get_state()\n",
    "if state.error:\n",
    "    print(f\"calculation failed: {state.error}\")\n",
    "    exit(-1)\n",
    "\n",
    "result.wait_until_ready()\n",
    "print(f\"result id: {state.id}\")\n",
    "print(client)\n",
    "print(\"\\n Results\")\n",
    "\n",
    "for i in result.get_total_impacts():\n",
    "    assert i.impact_category\n",
    "    print(f\"{i.impact_category.name} {i.amount} {i.impact_category.ref_unit}   {i.impact_category.id}\")"
   ]
  },
  {
   "cell_type": "code",
   "execution_count": null,
   "metadata": {},
   "outputs": [],
   "source": [
    "# get the result for some indicator from the first iteration\n",
    "indicator = client.find(o.ImpactCategory,name=\"Climate change, long term\")\n",
    "print (indicator)\n",
    "indicator = client.get(o.ImpactCategory,\"ca2d7af7-3e55-34f9-8ab7-b0c28ca7ddae\")\n",
    "print (indicator)\n",
    "val = lambda: result.get_total_impact_value_of(indicator).amount\n",
    "xs: list[float] = [val()]\n",
    "print (xs)\n",
    "\n"
   ]
  },
  {
   "cell_type": "code",
   "execution_count": null,
   "metadata": {},
   "outputs": [],
   "source": [
    "# collect the values from 999 more iterations\n",
    "for i in range(0, 4999):\n",
    "    print(f\"run iteration {i+2}\")\n",
    "    result.simulate_next()\n",
    "    result.wait_until_ready()\n",
    "    xs.append(val())\n",
    "print(xs)"
   ]
  },
  {
   "cell_type": "code",
   "execution_count": null,
   "metadata": {},
   "outputs": [],
   "source": [
    "confidence_interval = stat.t.interval(0.95, len(xs) - 1, loc=np.mean(xs), scale=stats.stdev(xs))\n",
    "#confidence_interval = stat.norm.interval(0.95, loc=np.mean(xs), scale=stat.sem(xs))\n",
    "print(\"95% Confidence Interval:\", confidence_interval,\"Mean \",np.mean(xs))\n",
    "\n",
    "\n",
    "\n",
    "plt.hist(xs,bins=150)\n",
    "plt.axvline(x=confidence_interval[0], color='r', linestyle='--', label='Lower Bound')\n",
    "plt.axvline(x=confidence_interval[1], color='r', linestyle='--', label='Upper Bound')\n",
    "\n",
    "# Highlight the mean\n",
    "plt.axvline(x=np.mean(xs), color='b', linestyle='-', label='Mean')\n",
    "\n",
    "# Add labels and legend\n",
    "plt.xlabel('kg of [CO2-eq]')\n",
    "plt.ylabel('Data Points')\n",
    "plt.legend()\n",
    "\n",
    "# Show the plot\n",
    "plt.show()\n"
   ]
  },
  {
   "cell_type": "code",
   "execution_count": null,
   "metadata": {},
   "outputs": [],
   "source": [
    "confidence_interval = stat.t.interval(0.95, len(xs) - 1, loc=np.mean(xs), scale=stat.sem(xs))\n",
    "\n",
    "print(\"95% Confidence Interval:\", confidence_interval)"
   ]
  },
  {
   "cell_type": "markdown",
   "metadata": {},
   "source": [
    "Results Investigation \n",
    "\n",
    "Get the techonsphere flow list using the .get_tech_flows function\n",
    "\n",
    "Get the product system demand using .get_demand ()\n",
    "\n",
    "Get all the technosphere flow consumed using the .get_total_requirements()  "
   ]
  },
  {
   "cell_type": "code",
   "execution_count": 96,
   "metadata": {},
   "outputs": [
    {
     "name": "stdout",
     "output_type": "stream",
     "text": [
      "                                     ID                   Provider  \\\n",
      "0  fcaf0889-2b64-41e8-9661-bb98856a7ea4  aluminium foil production   \n",
      "1  707f112e-04cb-4c62-a4d6-282841d0bc41     electricity production   \n",
      "2  788ab954-6bbe-41aa-add2-0ce003279a68       aluminium production   \n",
      "\n",
      "             Flow  Value Unit  \n",
      "0  aluminium foil    1.0   kg  \n",
      "1     electricity   51.0   MJ  \n",
      "2       aluminium    1.0   kg  \n",
      "Total Demand of product 1.0\n"
     ]
    }
   ],
   "source": [
    "tech_flows = result.get_tech_flows()\n",
    "tech_requirements = result.get_total_requirements()\n",
    "print(\n",
    "    pd.DataFrame(\n",
    "        [\n",
    "            (tf.flow.id,tf.provider.name, tf.flow.name,treq.amount ,tf.flow.ref_unit)\n",
    "             for tf, treq in zip(tech_flows,tech_requirements)   \n",
    "        ],\n",
    "        columns=[\"ID\",\"Provider\", \"Flow\",\"Value\", \"Unit\"],\n",
    "    ).head()\n",
    ")\n",
    "## Total demand of product system\n",
    "A = result.get_demand()\n",
    "print(\"Total Demand of product\",A.amount)\n",
    "\n"
   ]
  },
  {
   "cell_type": "markdown",
   "metadata": {},
   "source": [
    "To get all the impacts for a specific technosphere flow : \n"
   ]
  },
  {
   "cell_type": "code",
   "execution_count": 98,
   "metadata": {},
   "outputs": [
    {
     "name": "stdout",
     "output_type": "stream",
     "text": [
      "  amount  impact_category\n",
      "--------  ----------------------------------------------------------------------------------------------------------------------------------------------------------------------------------------------------------------------------------------\n",
      "     153  Ref(id='8941a62f-edcd-4090-a719-eaeaeffd464a', category='Testing', description=None, flow_type=None, location=None, name='Climate change', process_type=None, ref_unit='kg C02-eq', ref_type=<RefType.ImpactCategory: 'ImpactCategory'>) \n",
      "\n",
      "153.0 Climate change\n"
     ]
    }
   ],
   "source": [
    "direct_flow_impacts = result.get_direct_impacts_of(tech_flow=tech_flows[1])\n",
    "print(tabulate(direct_flow_impacts,headers=\"keys\"),\"\\n\")\n",
    "\n",
    "singular_direct_flow_impact = result.get_direct_impact_of(impact_category=client.find(o.ImpactCategory,\"Climate change\"),tech_flow=tech_flows[1])\n",
    "print(singular_direct_flow_impact.amount,singular_direct_flow_impact.impact_category.name)"
   ]
  },
  {
   "cell_type": "code",
   "execution_count": 99,
   "metadata": {},
   "outputs": [
    {
     "name": "stdout",
     "output_type": "stream",
     "text": [
      "  amount  impact_category\n",
      "--------  ----------------------------------------------------------------------------------------------------------------------------------------------------------------------------------------------------------------------------------------\n",
      "     120  Ref(id='8941a62f-edcd-4090-a719-eaeaeffd464a', category='Testing', description=None, flow_type=None, location=None, name='Climate change', process_type=None, ref_unit='kg C02-eq', ref_type=<RefType.ImpactCategory: 'ImpactCategory'>)\n"
     ]
    }
   ],
   "source": [
    "Ab = result.get_direct_impacts_of(tech_flow=tech_flows[2])\n",
    "print(tabulate(Ab,headers=\"keys\"))"
   ]
  },
  {
   "cell_type": "markdown",
   "metadata": {},
   "source": []
  },
  {
   "cell_type": "markdown",
   "metadata": {},
   "source": [
    "Investigate the Tech flows\n"
   ]
  },
  {
   "cell_type": "code",
   "execution_count": 100,
   "metadata": {},
   "outputs": [
    {
     "name": "stdout",
     "output_type": "stream",
     "text": [
      "  amount  tech_flow\n",
      "--------  -----------------------------------------------------------------------------------------------------------------------------------------------------------------------------------------------------------------------------------------------------------------------------------------------------------------------------------------------------------------------------------------------------------------------------------------------------------------------------------------------------------------------------------------------------------------------\n",
      "       0  TechFlow(flow=Ref(id='fcaf0889-2b64-41e8-9661-bb98856a7ea4', category=None, description=None, flow_type=<FlowType.PRODUCT_FLOW: 'PRODUCT_FLOW'>, location=None, name='aluminium foil', process_type=None, ref_unit='kg', ref_type=<RefType.Flow: 'Flow'>), provider=Ref(id='dcefef94-63ef-48cd-aebf-203c8c63511f', category=None, description=None, flow_type=<FlowType.PRODUCT_FLOW: 'PRODUCT_FLOW'>, location=None, name='aluminium foil production', process_type=<ProcessType.UNIT_PROCESS: 'UNIT_PROCESS'>, ref_unit=None, ref_type=<RefType.Process: 'Process'>))\n",
      "     -50  TechFlow(flow=Ref(id='707f112e-04cb-4c62-a4d6-282841d0bc41', category=None, description=None, flow_type=<FlowType.PRODUCT_FLOW: 'PRODUCT_FLOW'>, location=None, name='electricity', process_type=None, ref_unit='MJ', ref_type=<RefType.Flow: 'Flow'>), provider=Ref(id='0357ccc6-233d-4b4d-8d3d-ff3ca855ed0f', category=None, description=None, flow_type=<FlowType.PRODUCT_FLOW: 'PRODUCT_FLOW'>, location=None, name='electricity production', process_type=<ProcessType.UNIT_PROCESS: 'UNIT_PROCESS'>, ref_unit=None, ref_type=<RefType.Process: 'Process'>))\n",
      "       1  TechFlow(flow=Ref(id='788ab954-6bbe-41aa-add2-0ce003279a68', category=None, description=None, flow_type=<FlowType.PRODUCT_FLOW: 'PRODUCT_FLOW'>, location=None, name='aluminium', process_type=None, ref_unit='kg', ref_type=<RefType.Flow: 'Flow'>), provider=Ref(id='67349b66-b3c7-4ed9-bcf6-91df13477c8c', category=None, description=None, flow_type=<FlowType.PRODUCT_FLOW: 'PRODUCT_FLOW'>, location=None, name='aluminium production', process_type=<ProcessType.UNIT_PROCESS: 'UNIT_PROCESS'>, ref_unit=None, ref_type=<RefType.Process: 'Process'>)) \n",
      "\n",
      "  amount  tech_flow\n",
      "--------  -----------------------------------------------------------------------------------------------------------------------------------------------------------------------------------------------------------------------------------------------------------------------------------------------------------------------------------------------------------------------------------------------------------------------------------------------------------------------------------------------------------------------------------------------------------------------\n",
      "       0  TechFlow(flow=Ref(id='fcaf0889-2b64-41e8-9661-bb98856a7ea4', category=None, description=None, flow_type=<FlowType.PRODUCT_FLOW: 'PRODUCT_FLOW'>, location=None, name='aluminium foil', process_type=None, ref_unit='kg', ref_type=<RefType.Flow: 'Flow'>), provider=Ref(id='dcefef94-63ef-48cd-aebf-203c8c63511f', category=None, description=None, flow_type=<FlowType.PRODUCT_FLOW: 'PRODUCT_FLOW'>, location=None, name='aluminium foil production', process_type=<ProcessType.UNIT_PROCESS: 'UNIT_PROCESS'>, ref_unit=None, ref_type=<RefType.Process: 'Process'>))\n",
      "     -50  TechFlow(flow=Ref(id='707f112e-04cb-4c62-a4d6-282841d0bc41', category=None, description=None, flow_type=<FlowType.PRODUCT_FLOW: 'PRODUCT_FLOW'>, location=None, name='electricity', process_type=None, ref_unit='MJ', ref_type=<RefType.Flow: 'Flow'>), provider=Ref(id='0357ccc6-233d-4b4d-8d3d-ff3ca855ed0f', category=None, description=None, flow_type=<FlowType.PRODUCT_FLOW: 'PRODUCT_FLOW'>, location=None, name='electricity production', process_type=<ProcessType.UNIT_PROCESS: 'UNIT_PROCESS'>, ref_unit=None, ref_type=<RefType.Process: 'Process'>))\n",
      "       1  TechFlow(flow=Ref(id='788ab954-6bbe-41aa-add2-0ce003279a68', category=None, description=None, flow_type=<FlowType.PRODUCT_FLOW: 'PRODUCT_FLOW'>, location=None, name='aluminium', process_type=None, ref_unit='kg', ref_type=<RefType.Flow: 'Flow'>), provider=Ref(id='67349b66-b3c7-4ed9-bcf6-91df13477c8c', category=None, description=None, flow_type=<FlowType.PRODUCT_FLOW: 'PRODUCT_FLOW'>, location=None, name='aluminium production', process_type=<ProcessType.UNIT_PROCESS: 'UNIT_PROCESS'>, ref_unit=None, ref_type=<RefType.Process: 'Process'>)) \n",
      "\n",
      "  amount  tech_flow\n",
      "--------  -----------------------------------------------------------------------------------------------------------------------------------------------------------------------------------------------------------------------------------------------------------------------------------------------------------------------------------------------------------------------------------------------------------------------------------------------------------------------------------------------------------------------------------------------------------------------\n",
      "       1  TechFlow(flow=Ref(id='fcaf0889-2b64-41e8-9661-bb98856a7ea4', category=None, description=None, flow_type=<FlowType.PRODUCT_FLOW: 'PRODUCT_FLOW'>, location=None, name='aluminium foil', process_type=None, ref_unit='kg', ref_type=<RefType.Flow: 'Flow'>), provider=Ref(id='dcefef94-63ef-48cd-aebf-203c8c63511f', category=None, description=None, flow_type=<FlowType.PRODUCT_FLOW: 'PRODUCT_FLOW'>, location=None, name='aluminium foil production', process_type=<ProcessType.UNIT_PROCESS: 'UNIT_PROCESS'>, ref_unit=None, ref_type=<RefType.Process: 'Process'>))\n",
      "      51  TechFlow(flow=Ref(id='707f112e-04cb-4c62-a4d6-282841d0bc41', category=None, description=None, flow_type=<FlowType.PRODUCT_FLOW: 'PRODUCT_FLOW'>, location=None, name='electricity', process_type=None, ref_unit='MJ', ref_type=<RefType.Flow: 'Flow'>), provider=Ref(id='0357ccc6-233d-4b4d-8d3d-ff3ca855ed0f', category=None, description=None, flow_type=<FlowType.PRODUCT_FLOW: 'PRODUCT_FLOW'>, location=None, name='electricity production', process_type=<ProcessType.UNIT_PROCESS: 'UNIT_PROCESS'>, ref_unit=None, ref_type=<RefType.Process: 'Process'>))\n",
      "       1  TechFlow(flow=Ref(id='788ab954-6bbe-41aa-add2-0ce003279a68', category=None, description=None, flow_type=<FlowType.PRODUCT_FLOW: 'PRODUCT_FLOW'>, location=None, name='aluminium', process_type=None, ref_unit='kg', ref_type=<RefType.Flow: 'Flow'>), provider=Ref(id='67349b66-b3c7-4ed9-bcf6-91df13477c8c', category=None, description=None, flow_type=<FlowType.PRODUCT_FLOW: 'PRODUCT_FLOW'>, location=None, name='aluminium production', process_type=<ProcessType.UNIT_PROCESS: 'UNIT_PROCESS'>, ref_unit=None, ref_type=<RefType.Process: 'Process'>)) \n",
      "\n"
     ]
    }
   ],
   "source": [
    "#### Get the requirements for a specific tech flow _  The returned values are negative for inputs and positive for outputs of the respective flows. \n",
    "tech_flow_spec = result.get_scaled_tech_flows_of(tech_flows[2])\n",
    "print(tabulate(tech_flow_spec,headers=\"keys\"),\"\\n\")\n",
    "\n",
    "tech_flow_unscaled= result.get_unscaled_tech_flows_of(tech_flows[2])\n",
    "print(tabulate(tech_flow_unscaled,headers=\"keys\"),\"\\n\")\n",
    "\n",
    "scaling_fact = result.get_scaling_factors()\n",
    "print(tabulate(scaling_fact,headers=\"keys\"),\"\\n\")\n"
   ]
  },
  {
   "cell_type": "markdown",
   "metadata": {},
   "source": [
    "Intervention Flows \n",
    "These are the flows that cross the boundary with the environment of the calculated system (this is why the short name is EnviFlow in the API). "
   ]
  },
  {
   "cell_type": "code",
   "execution_count": 101,
   "metadata": {},
   "outputs": [
    {
     "name": "stdout",
     "output_type": "stream",
     "text": [
      "   Is input?         Flow Category  Amount Unit\n",
      "0      False  solid waste     None   112.0   kg\n",
      "1      False          CO2     None   328.0   kg\n",
      "2       True    crude oil     None    25.5   kg\n",
      "3       True      bauxite     None     5.0   kg\n",
      "EnviFlowValue(amount=5.0, envi_flow=EnviFlow(flow=Ref(id='49a93207-858c-49ef-a4d3-d0b0576f803e', category=None, description=None, flow_type=<FlowType.ELEMENTARY_FLOW: 'ELEMENTARY_FLOW'>, location=None, name='bauxite', process_type=None, ref_unit='kg', ref_type=<RefType.Flow: 'Flow'>), is_input=True, location=None))\n"
     ]
    }
   ],
   "source": [
    "envi_flows = result.get_envi_flows()\n",
    "tot_env_flows = result.get_total_flows ()\n",
    "print(\n",
    "    pd.DataFrame(\n",
    "        [\n",
    "            (ef.is_input, ef.flow.name, ef.flow.category,tot_ef.amount, ef.flow.ref_unit)\n",
    "            for ef, tot_ef in zip(envi_flows, tot_env_flows)\n",
    "        ],\n",
    "        columns=[\"Is input?\", \"Flow\", \"Category\",\"Amount\", \"Unit\"],\n",
    "    ).head()\n",
    ")\n",
    "\n",
    "specified_env_flow = result.get_total_flow_value_of(envi_flows[3])\n",
    "print (specified_env_flow) #With amount and enfi_flow ref ."
   ]
  },
  {
   "cell_type": "markdown",
   "metadata": {},
   "source": [
    "Get all the process contributions for a specific env. flows, for a specific impact "
   ]
  },
  {
   "cell_type": "code",
   "execution_count": 102,
   "metadata": {},
   "outputs": [
    {
     "name": "stdout",
     "output_type": "stream",
     "text": [
      "  amount  tech_flow\n",
      "--------  -----------------------------------------------------------------------------------------------------------------------------------------------------------------------------------------------------------------------------------------------------------------------------------------------------------------------------------------------------------------------------------------------------------------------------------------------------------------------------------------------------------------------------------------------------------------------\n",
      "       0  TechFlow(flow=Ref(id='fcaf0889-2b64-41e8-9661-bb98856a7ea4', category=None, description=None, flow_type=<FlowType.PRODUCT_FLOW: 'PRODUCT_FLOW'>, location=None, name='aluminium foil', process_type=None, ref_unit='kg', ref_type=<RefType.Flow: 'Flow'>), provider=Ref(id='dcefef94-63ef-48cd-aebf-203c8c63511f', category=None, description=None, flow_type=<FlowType.PRODUCT_FLOW: 'PRODUCT_FLOW'>, location=None, name='aluminium foil production', process_type=<ProcessType.UNIT_PROCESS: 'UNIT_PROCESS'>, ref_unit=None, ref_type=<RefType.Process: 'Process'>))\n",
      "       0  TechFlow(flow=Ref(id='707f112e-04cb-4c62-a4d6-282841d0bc41', category=None, description=None, flow_type=<FlowType.PRODUCT_FLOW: 'PRODUCT_FLOW'>, location=None, name='electricity', process_type=None, ref_unit='MJ', ref_type=<RefType.Flow: 'Flow'>), provider=Ref(id='0357ccc6-233d-4b4d-8d3d-ff3ca855ed0f', category=None, description=None, flow_type=<FlowType.PRODUCT_FLOW: 'PRODUCT_FLOW'>, location=None, name='electricity production', process_type=<ProcessType.UNIT_PROCESS: 'UNIT_PROCESS'>, ref_unit=None, ref_type=<RefType.Process: 'Process'>))\n",
      "       5  TechFlow(flow=Ref(id='788ab954-6bbe-41aa-add2-0ce003279a68', category=None, description=None, flow_type=<FlowType.PRODUCT_FLOW: 'PRODUCT_FLOW'>, location=None, name='aluminium', process_type=None, ref_unit='kg', ref_type=<RefType.Flow: 'Flow'>), provider=Ref(id='67349b66-b3c7-4ed9-bcf6-91df13477c8c', category=None, description=None, flow_type=<FlowType.PRODUCT_FLOW: 'PRODUCT_FLOW'>, location=None, name='aluminium production', process_type=<ProcessType.UNIT_PROCESS: 'UNIT_PROCESS'>, ref_unit=None, ref_type=<RefType.Process: 'Process'>)) \n",
      "\n",
      "  amount  tech_flow\n",
      "--------  -----------------------------------------------------------------------------------------------------------------------------------------------------------------------------------------------------------------------------------------------------------------------------------------------------------------------------------------------------------------------------------------------------------------------------------------------------------------------------------------------------------------------------------------------------------------------\n",
      "      55  TechFlow(flow=Ref(id='fcaf0889-2b64-41e8-9661-bb98856a7ea4', category=None, description=None, flow_type=<FlowType.PRODUCT_FLOW: 'PRODUCT_FLOW'>, location=None, name='aluminium foil', process_type=None, ref_unit='kg', ref_type=<RefType.Flow: 'Flow'>), provider=Ref(id='dcefef94-63ef-48cd-aebf-203c8c63511f', category=None, description=None, flow_type=<FlowType.PRODUCT_FLOW: 'PRODUCT_FLOW'>, location=None, name='aluminium foil production', process_type=<ProcessType.UNIT_PROCESS: 'UNIT_PROCESS'>, ref_unit=None, ref_type=<RefType.Process: 'Process'>))\n",
      "     153  TechFlow(flow=Ref(id='707f112e-04cb-4c62-a4d6-282841d0bc41', category=None, description=None, flow_type=<FlowType.PRODUCT_FLOW: 'PRODUCT_FLOW'>, location=None, name='electricity', process_type=None, ref_unit='MJ', ref_type=<RefType.Flow: 'Flow'>), provider=Ref(id='0357ccc6-233d-4b4d-8d3d-ff3ca855ed0f', category=None, description=None, flow_type=<FlowType.PRODUCT_FLOW: 'PRODUCT_FLOW'>, location=None, name='electricity production', process_type=<ProcessType.UNIT_PROCESS: 'UNIT_PROCESS'>, ref_unit=None, ref_type=<RefType.Process: 'Process'>))\n",
      "     120  TechFlow(flow=Ref(id='788ab954-6bbe-41aa-add2-0ce003279a68', category=None, description=None, flow_type=<FlowType.PRODUCT_FLOW: 'PRODUCT_FLOW'>, location=None, name='aluminium', process_type=None, ref_unit='kg', ref_type=<RefType.Flow: 'Flow'>), provider=Ref(id='67349b66-b3c7-4ed9-bcf6-91df13477c8c', category=None, description=None, flow_type=<FlowType.PRODUCT_FLOW: 'PRODUCT_FLOW'>, location=None, name='aluminium production', process_type=<ProcessType.UNIT_PROCESS: 'UNIT_PROCESS'>, ref_unit=None, ref_type=<RefType.Process: 'Process'>))\n"
     ]
    }
   ],
   "source": [
    "env_flow_contrib = result.get_flow_contributions_of(envi_flow=envi_flows[3])\n",
    "print(tabulate(env_flow_contrib,headers=\"keys\"),\"\\n\")\n",
    "\n",
    "impact_flow_contrib = result.get_impact_contributions_of(impact_category=client.find(o.ImpactCategory,\"Climate change\"))\n",
    "print(tabulate(impact_flow_contrib,headers=\"keys\"))"
   ]
  },
  {
   "cell_type": "markdown",
   "metadata": {},
   "source": [
    "To get the direct biosphere interaction of a specific technosphere flow"
   ]
  },
  {
   "cell_type": "code",
   "execution_count": 103,
   "metadata": {},
   "outputs": [
    {
     "name": "stdout",
     "output_type": "stream",
     "text": [
      "  amount  envi_flow\n",
      "--------  --------------------------------------------------------------------------------------------------------------------------------------------------------------------------------------------------------------------------------------------------------------------------------------------\n",
      "   112    EnviFlow(flow=Ref(id='09d19276-507d-4489-8d38-5803312a6d46', category=None, description=None, flow_type=<FlowType.ELEMENTARY_FLOW: 'ELEMENTARY_FLOW'>, location=None, name='solid waste', process_type=None, ref_unit='kg', ref_type=<RefType.Flow: 'Flow'>), is_input=False, location=None)\n",
      "   328    EnviFlow(flow=Ref(id='1692c65f-08e0-407a-8f30-fffc6da23ce9', category=None, description=None, flow_type=<FlowType.ELEMENTARY_FLOW: 'ELEMENTARY_FLOW'>, location=None, name='CO2', process_type=None, ref_unit='kg', ref_type=<RefType.Flow: 'Flow'>), is_input=False, location=None)\n",
      "    25.5  EnviFlow(flow=Ref(id='7dc2ccdf-a066-44a3-8c68-99a95f6f59f4', category=None, description=None, flow_type=<FlowType.ELEMENTARY_FLOW: 'ELEMENTARY_FLOW'>, location=None, name='crude oil', process_type=None, ref_unit='kg', ref_type=<RefType.Flow: 'Flow'>), is_input=True, location=None)\n",
      "     5    EnviFlow(flow=Ref(id='49a93207-858c-49ef-a4d3-d0b0576f803e', category=None, description=None, flow_type=<FlowType.ELEMENTARY_FLOW: 'ELEMENTARY_FLOW'>, location=None, name='bauxite', process_type=None, ref_unit='kg', ref_type=<RefType.Flow: 'Flow'>), is_input=True, location=None) \n",
      "\n",
      "112.0   solid waste\n",
      "328.0   CO2\n",
      "25.5   crude oil\n",
      "5.0   bauxite\n"
     ]
    }
   ],
   "source": [
    "tech_intensities = result.get_flow_intensities_of(tech_flow=tech_flows[0])\n",
    "print(tabulate(tech_intensities,headers=\"keys\"),\"\\n\")\n",
    "\n",
    "for x,env_flow in enumerate(envi_flows):\n",
    "    tech_intensity = result.get_flow_intensity_of(envi_flow=envi_flows[x],tech_flow = tech_flows[0])\n",
    "    print(round(tech_intensity.amount,6),\" \",tech_intensity.envi_flow.flow.name)\n"
   ]
  },
  {
   "cell_type": "markdown",
   "metadata": {},
   "source": [
    "to get all the biosphère interactions of a specific techflows (including upstream)"
   ]
  },
  {
   "cell_type": "code",
   "execution_count": 104,
   "metadata": {},
   "outputs": [
    {
     "name": "stdout",
     "output_type": "stream",
     "text": [
      "  amount  envi_flow\n",
      "--------  --------------------------------------------------------------------------------------------------------------------------------------------------------------------------------------------------------------------------------------------------------------------------------------------\n",
      "   112    EnviFlow(flow=Ref(id='09d19276-507d-4489-8d38-5803312a6d46', category=None, description=None, flow_type=<FlowType.ELEMENTARY_FLOW: 'ELEMENTARY_FLOW'>, location=None, name='solid waste', process_type=None, ref_unit='kg', ref_type=<RefType.Flow: 'Flow'>), is_input=False, location=None)\n",
      "   328    EnviFlow(flow=Ref(id='1692c65f-08e0-407a-8f30-fffc6da23ce9', category=None, description=None, flow_type=<FlowType.ELEMENTARY_FLOW: 'ELEMENTARY_FLOW'>, location=None, name='CO2', process_type=None, ref_unit='kg', ref_type=<RefType.Flow: 'Flow'>), is_input=False, location=None)\n",
      "    25.5  EnviFlow(flow=Ref(id='7dc2ccdf-a066-44a3-8c68-99a95f6f59f4', category=None, description=None, flow_type=<FlowType.ELEMENTARY_FLOW: 'ELEMENTARY_FLOW'>, location=None, name='crude oil', process_type=None, ref_unit='kg', ref_type=<RefType.Flow: 'Flow'>), is_input=True, location=None)\n",
      "     5    EnviFlow(flow=Ref(id='49a93207-858c-49ef-a4d3-d0b0576f803e', category=None, description=None, flow_type=<FlowType.ELEMENTARY_FLOW: 'ELEMENTARY_FLOW'>, location=None, name='bauxite', process_type=None, ref_unit='kg', ref_type=<RefType.Flow: 'Flow'>), is_input=True, location=None) \n",
      "\n",
      "112.0   solid waste\n",
      "328.0   CO2\n",
      "25.5   crude oil\n",
      "5.0   bauxite\n"
     ]
    }
   ],
   "source": [
    "total_tech_intensities= result.get_total_interventions_of(tech_flow=tech_flows[0])\n",
    "print (tabulate(total_tech_intensities,headers=\"keys\"),\"\\n\")\n",
    "\n",
    "for x,env_flow in enumerate(envi_flows):\n",
    "    tech_total_intensity = result.get_total_intervention_of(envi_flow=envi_flows[x],tech_flow = tech_flows[0])\n",
    "    print(round(tech_total_intensity.amount,6),\" \",tech_total_intensity.envi_flow.flow.name)"
   ]
  },
  {
   "cell_type": "code",
   "execution_count": 105,
   "metadata": {},
   "outputs": [
    {
     "name": "stdout",
     "output_type": "stream",
     "text": [
      "  Impact category       Unit\n",
      "0  Climate change  kg C02-eq\n"
     ]
    }
   ],
   "source": [
    "impact_categories = result.get_impact_categories()\n",
    "print(\n",
    "    pd.DataFrame(\n",
    "        [(i.name, i.ref_unit) for i in impact_categories],\n",
    "        columns=[\"Impact category\", \"Unit\"],\n",
    "    )\n",
    ")"
   ]
  },
  {
   "cell_type": "code",
   "execution_count": 106,
   "metadata": {},
   "outputs": [
    {
     "name": "stdout",
     "output_type": "stream",
     "text": [
      "upstream tree for solid waste (None)\n",
      "- 1.12E+02 kg :: aluminium foil production\n",
      "  - 1.10E+02 kg :: aluminium production\n",
      "    - 1.00E+02 kg :: electricity production\n",
      "  - 2.00E+00 kg :: electricity production\n"
     ]
    }
   ],
   "source": [
    "import olca_ipc as ipc\n",
    "import olca_schema as o\n",
    "\n",
    "\n",
    "def main():\n",
    "\n",
    "    # calculate a result\n",
    "    client = ipc.Client(8080)\n",
    "    setup = o.CalculationSetup(\n",
    "        target=model\n",
    "    )\n",
    "    result = client.calculate(setup)\n",
    "    result.wait_until_ready()\n",
    "\n",
    "    # select the first best inventory flow and expand a tree for it\n",
    "    flow = result.get_envi_flows()[0]\n",
    "    print(f\"upstream tree for {flow.flow.name} ({flow.flow.category})\")\n",
    "    expand(result, flow, [])\n",
    "\n",
    "    # as always, dispose the result\n",
    "    result.dispose()\n",
    "\n",
    "\n",
    "def expand(r: ipc.IpcResult, flow: o.EnviFlow, path: list[o.TechFlow]):\n",
    "    level = len(path)\n",
    "    indent = \"  \" * level\n",
    "    unit = flow.flow.ref_unit\n",
    "    nodes = r.get_upstream_interventions_of(flow, path)\n",
    "    for node in nodes:\n",
    "        if node.result == 0 or not node.tech_flow:\n",
    "            continue\n",
    "        name = node.tech_flow.provider.name\n",
    "        value = node.result\n",
    "        print(f\"{indent}- {value:.2E} {unit} :: {name}\")\n",
    "\n",
    "        # we stop the expansion after 3 levels; you can set other cut-offs like\n",
    "        # result contributions etc.\n",
    "        if level < 3:\n",
    "            expand(r, flow, path + [node.tech_flow])\n",
    "    pass\n",
    "\n",
    "\n",
    "if __name__ == \"__main__\":\n",
    "    main()\n"
   ]
  },
  {
   "cell_type": "code",
   "execution_count": 107,
   "metadata": {},
   "outputs": [
    {
     "name": "stdout",
     "output_type": "stream",
     "text": [
      "upstream tree for Climate change\n",
      "- 3.28E+02 kg C02-eq :: aluminium foil production\n",
      "  - 2.70E+02 kg C02-eq :: aluminium production\n",
      "    - 1.50E+02 kg C02-eq :: electricity production\n",
      "  - 3.00E+00 kg C02-eq :: electricity production\n"
     ]
    }
   ],
   "source": [
    "import olca_ipc as ipc\n",
    "import olca_schema as o\n",
    "\n",
    "\n",
    "def main():\n",
    "\n",
    "    # calculate a result\n",
    "    client = ipc.Client(8080)\n",
    "    setup = o.CalculationSetup(\n",
    "        target=model,\n",
    "        impact_method=method,\n",
    "    )\n",
    "    result = client.calculate(setup)\n",
    "    result.wait_until_ready()\n",
    "\n",
    "    # select the first best impact category and expand a tree for it\n",
    "    indicator = client.find(o.ImpactCategory,\"Climate change\")\n",
    "    print(f\"upstream tree for {indicator.name}\")\n",
    "    expand(result, indicator, [])\n",
    "\n",
    "    # as always, dispose the result\n",
    "    result.dispose()\n",
    "\n",
    "\n",
    "def expand(r: ipc.IpcResult, indicator: o.Ref, path: list[o.TechFlow]):\n",
    "    level = len(path)\n",
    "    indent = \"  \" * level\n",
    "    unit = indicator.ref_unit\n",
    "    nodes = r.get_upstream_impacts_of(impact_category=indicator, path=path)\n",
    "    for node in nodes:\n",
    "        if node.result == 0 or not node.tech_flow:\n",
    "            continue\n",
    "        name = node.tech_flow.provider.name\n",
    "        value = node.result\n",
    "        print(f\"{indent}- {value:.2E} {unit} :: {name}\")\n",
    "\n",
    "        # we stop the expansion after 3 levels; you can set other cut-offs like\n",
    "        # result contributions etc.\n",
    "        if level < 3:\n",
    "            expand(r, indicator, path + [node.tech_flow])\n",
    "    pass\n",
    "\n",
    "\n",
    "if __name__ == \"__main__\":\n",
    "    main()"
   ]
  },
  {
   "cell_type": "code",
   "execution_count": 111,
   "metadata": {},
   "outputs": [
    {
     "name": "stdout",
     "output_type": "stream",
     "text": [
      "loaded a graph with 3 nodes and 3 edges\n",
      "328.0\n"
     ]
    }
   ],
   "source": [
    "import olca_ipc as ipc\n",
    "import olca_schema as o\n",
    "\n",
    "imp_cat_for_sankey = client.find(o.ImpactCategory,\"Climate change\")\n",
    "client = ipc.Client(8080)\n",
    "# calculate a result for the default quantitative reference of a product system\n",
    "result = client.calculate(\n",
    "    o.CalculationSetup(\n",
    "        target=model,\n",
    "        impact_method=method,\n",
    "    )\n",
    ")\n",
    "state = result.wait_until_ready()\n",
    "\n",
    "# get the Sankey graph for an impact category\n",
    "g = result.get_sankey_graph(\n",
    "    o.SankeyRequest(\n",
    "        impact_category=imp_cat_for_sankey,\n",
    "        max_nodes=10,\n",
    "    )\n",
    ")\n",
    "print(f\"loaded a graph with {len(g.nodes)} nodes and {len(g.edges)} edges\")\n",
    "# prints something like: loaded a graph with 10 nodes and 14 edges\n",
    "tot_scaling = result.get_total_impact_value_of(imp_cat_for_sankey)\n",
    "ref = client.put(o.Result(id=state.id))\n",
    "# finally, dispose the result\n",
    "result.dispose()\n",
    "\n",
    "print(tot_scaling.amount)\n"
   ]
  },
  {
   "cell_type": "code",
   "execution_count": 66,
   "metadata": {},
   "outputs": [
    {
     "name": "stdout",
     "output_type": "stream",
     "text": [
      "  direct_result    index  tech_flow                                                                                                                                                                                                                                                                                                                                                                                                                                                                                                                                                                  total_result\n",
      "---------------  -------  -----------------------------------------------------------------------------------------------------------------------------------------------------------------------------------------------------------------------------------------------------------------------------------------------------------------------------------------------------------------------------------------------------------------------------------------------------------------------------------------------------------------------------------------------------------------------  --------------\n",
      "             55        0  TechFlow(flow=Ref(id='fcaf0889-2b64-41e8-9661-bb98856a7ea4', category=None, description=None, flow_type=<FlowType.PRODUCT_FLOW: 'PRODUCT_FLOW'>, location=None, name='aluminium foil', process_type=None, ref_unit='kg', ref_type=<RefType.Flow: 'Flow'>), provider=Ref(id='dcefef94-63ef-48cd-aebf-203c8c63511f', category=None, description=None, flow_type=<FlowType.PRODUCT_FLOW: 'PRODUCT_FLOW'>, location=None, name='aluminium foil production', process_type=<ProcessType.UNIT_PROCESS: 'UNIT_PROCESS'>, ref_unit=None, ref_type=<RefType.Process: 'Process'>))             328\n",
      "            120        2  TechFlow(flow=Ref(id='788ab954-6bbe-41aa-add2-0ce003279a68', category=None, description=None, flow_type=<FlowType.PRODUCT_FLOW: 'PRODUCT_FLOW'>, location=None, name='aluminium', process_type=None, ref_unit='kg', ref_type=<RefType.Flow: 'Flow'>), provider=Ref(id='67349b66-b3c7-4ed9-bcf6-91df13477c8c', category=None, description=None, flow_type=<FlowType.PRODUCT_FLOW: 'PRODUCT_FLOW'>, location=None, name='aluminium production', process_type=<ProcessType.UNIT_PROCESS: 'UNIT_PROCESS'>, ref_unit=None, ref_type=<RefType.Process: 'Process'>))                       270\n",
      "            153        1  TechFlow(flow=Ref(id='707f112e-04cb-4c62-a4d6-282841d0bc41', category=None, description=None, flow_type=<FlowType.PRODUCT_FLOW: 'PRODUCT_FLOW'>, location=None, name='electricity', process_type=None, ref_unit='MJ', ref_type=<RefType.Flow: 'Flow'>), provider=Ref(id='0357ccc6-233d-4b4d-8d3d-ff3ca855ed0f', category=None, description=None, flow_type=<FlowType.PRODUCT_FLOW: 'PRODUCT_FLOW'>, location=None, name='electricity production', process_type=<ProcessType.UNIT_PROCESS: 'UNIT_PROCESS'>, ref_unit=None, ref_type=<RefType.Process: 'Process'>))                   153\n",
      "  node_index    provider_index    upstream_share\n",
      "------------  ----------------  ----------------\n",
      "           0                 2         1\n",
      "           0                 1         0.0196078\n",
      "           2                 1         0.980392\n",
      "0\n",
      "[{'label': 'aluminium foil', 'pad': 15}, {'label': 'aluminium', 'pad': 15}, {'label': 'electricity', 'pad': 15}]\n"
     ]
    }
   ],
   "source": [
    "import plotly.graph_objects as go\n",
    "print (tabulate(g.nodes,headers=\"keys\"))\n",
    "\n",
    "print (tabulate(g.edges,headers=\"keys\"))\n",
    "\n",
    "print (g.root_index)\n",
    "A= []\n",
    "nodes = []\n",
    "for n in g.nodes : \n",
    "    nodes.append(dict(label=n.tech_flow.flow.name, pad=15))\n",
    "    \n",
    "print (nodes)\n",
    "\n"
   ]
  },
  {
   "cell_type": "code",
   "execution_count": 113,
   "metadata": {},
   "outputs": [
    {
     "name": "stdout",
     "output_type": "stream",
     "text": [
      "  direct_result    index  tech_flow                                                                                                                                                                                                                                                                                                                                                                                                                                                                                                                                                                  total_result\n",
      "---------------  -------  -----------------------------------------------------------------------------------------------------------------------------------------------------------------------------------------------------------------------------------------------------------------------------------------------------------------------------------------------------------------------------------------------------------------------------------------------------------------------------------------------------------------------------------------------------------------------  --------------\n",
      "             55        0  TechFlow(flow=Ref(id='fcaf0889-2b64-41e8-9661-bb98856a7ea4', category=None, description=None, flow_type=<FlowType.PRODUCT_FLOW: 'PRODUCT_FLOW'>, location=None, name='aluminium foil', process_type=None, ref_unit='kg', ref_type=<RefType.Flow: 'Flow'>), provider=Ref(id='dcefef94-63ef-48cd-aebf-203c8c63511f', category=None, description=None, flow_type=<FlowType.PRODUCT_FLOW: 'PRODUCT_FLOW'>, location=None, name='aluminium foil production', process_type=<ProcessType.UNIT_PROCESS: 'UNIT_PROCESS'>, ref_unit=None, ref_type=<RefType.Process: 'Process'>))             328\n",
      "            153        1  TechFlow(flow=Ref(id='707f112e-04cb-4c62-a4d6-282841d0bc41', category=None, description=None, flow_type=<FlowType.PRODUCT_FLOW: 'PRODUCT_FLOW'>, location=None, name='electricity', process_type=None, ref_unit='MJ', ref_type=<RefType.Flow: 'Flow'>), provider=Ref(id='0357ccc6-233d-4b4d-8d3d-ff3ca855ed0f', category=None, description=None, flow_type=<FlowType.PRODUCT_FLOW: 'PRODUCT_FLOW'>, location=None, name='electricity production', process_type=<ProcessType.UNIT_PROCESS: 'UNIT_PROCESS'>, ref_unit=None, ref_type=<RefType.Process: 'Process'>))                   153\n",
      "            120        2  TechFlow(flow=Ref(id='788ab954-6bbe-41aa-add2-0ce003279a68', category=None, description=None, flow_type=<FlowType.PRODUCT_FLOW: 'PRODUCT_FLOW'>, location=None, name='aluminium', process_type=None, ref_unit='kg', ref_type=<RefType.Flow: 'Flow'>), provider=Ref(id='67349b66-b3c7-4ed9-bcf6-91df13477c8c', category=None, description=None, flow_type=<FlowType.PRODUCT_FLOW: 'PRODUCT_FLOW'>, location=None, name='aluminium production', process_type=<ProcessType.UNIT_PROCESS: 'UNIT_PROCESS'>, ref_unit=None, ref_type=<RefType.Process: 'Process'>))                       270\n"
     ]
    },
    {
     "data": {
      "application/vnd.plotly.v1+json": {
       "config": {
        "plotlyServerURL": "https://plot.ly"
       },
       "data": [
        {
         "link": {
          "source": [
           2,
           1,
           1
          ],
          "target": [
           0,
           0,
           2
          ],
          "value": [
           328,
           6.431372549019608,
           321.5686274509804
          ]
         },
         "node": {
          "label": [
           "aluminium foil",
           "electricity",
           "aluminium"
          ],
          "line": {
           "color": "black",
           "width": 0.5
          },
          "pad": 250,
          "thickness": 20
         },
         "type": "sankey"
        }
       ],
       "layout": {
        "template": {
         "data": {
          "bar": [
           {
            "error_x": {
             "color": "#2a3f5f"
            },
            "error_y": {
             "color": "#2a3f5f"
            },
            "marker": {
             "line": {
              "color": "#E5ECF6",
              "width": 0.5
             },
             "pattern": {
              "fillmode": "overlay",
              "size": 10,
              "solidity": 0.2
             }
            },
            "type": "bar"
           }
          ],
          "barpolar": [
           {
            "marker": {
             "line": {
              "color": "#E5ECF6",
              "width": 0.5
             },
             "pattern": {
              "fillmode": "overlay",
              "size": 10,
              "solidity": 0.2
             }
            },
            "type": "barpolar"
           }
          ],
          "carpet": [
           {
            "aaxis": {
             "endlinecolor": "#2a3f5f",
             "gridcolor": "white",
             "linecolor": "white",
             "minorgridcolor": "white",
             "startlinecolor": "#2a3f5f"
            },
            "baxis": {
             "endlinecolor": "#2a3f5f",
             "gridcolor": "white",
             "linecolor": "white",
             "minorgridcolor": "white",
             "startlinecolor": "#2a3f5f"
            },
            "type": "carpet"
           }
          ],
          "choropleth": [
           {
            "colorbar": {
             "outlinewidth": 0,
             "ticks": ""
            },
            "type": "choropleth"
           }
          ],
          "contour": [
           {
            "colorbar": {
             "outlinewidth": 0,
             "ticks": ""
            },
            "colorscale": [
             [
              0,
              "#0d0887"
             ],
             [
              0.1111111111111111,
              "#46039f"
             ],
             [
              0.2222222222222222,
              "#7201a8"
             ],
             [
              0.3333333333333333,
              "#9c179e"
             ],
             [
              0.4444444444444444,
              "#bd3786"
             ],
             [
              0.5555555555555556,
              "#d8576b"
             ],
             [
              0.6666666666666666,
              "#ed7953"
             ],
             [
              0.7777777777777778,
              "#fb9f3a"
             ],
             [
              0.8888888888888888,
              "#fdca26"
             ],
             [
              1,
              "#f0f921"
             ]
            ],
            "type": "contour"
           }
          ],
          "contourcarpet": [
           {
            "colorbar": {
             "outlinewidth": 0,
             "ticks": ""
            },
            "type": "contourcarpet"
           }
          ],
          "heatmap": [
           {
            "colorbar": {
             "outlinewidth": 0,
             "ticks": ""
            },
            "colorscale": [
             [
              0,
              "#0d0887"
             ],
             [
              0.1111111111111111,
              "#46039f"
             ],
             [
              0.2222222222222222,
              "#7201a8"
             ],
             [
              0.3333333333333333,
              "#9c179e"
             ],
             [
              0.4444444444444444,
              "#bd3786"
             ],
             [
              0.5555555555555556,
              "#d8576b"
             ],
             [
              0.6666666666666666,
              "#ed7953"
             ],
             [
              0.7777777777777778,
              "#fb9f3a"
             ],
             [
              0.8888888888888888,
              "#fdca26"
             ],
             [
              1,
              "#f0f921"
             ]
            ],
            "type": "heatmap"
           }
          ],
          "heatmapgl": [
           {
            "colorbar": {
             "outlinewidth": 0,
             "ticks": ""
            },
            "colorscale": [
             [
              0,
              "#0d0887"
             ],
             [
              0.1111111111111111,
              "#46039f"
             ],
             [
              0.2222222222222222,
              "#7201a8"
             ],
             [
              0.3333333333333333,
              "#9c179e"
             ],
             [
              0.4444444444444444,
              "#bd3786"
             ],
             [
              0.5555555555555556,
              "#d8576b"
             ],
             [
              0.6666666666666666,
              "#ed7953"
             ],
             [
              0.7777777777777778,
              "#fb9f3a"
             ],
             [
              0.8888888888888888,
              "#fdca26"
             ],
             [
              1,
              "#f0f921"
             ]
            ],
            "type": "heatmapgl"
           }
          ],
          "histogram": [
           {
            "marker": {
             "pattern": {
              "fillmode": "overlay",
              "size": 10,
              "solidity": 0.2
             }
            },
            "type": "histogram"
           }
          ],
          "histogram2d": [
           {
            "colorbar": {
             "outlinewidth": 0,
             "ticks": ""
            },
            "colorscale": [
             [
              0,
              "#0d0887"
             ],
             [
              0.1111111111111111,
              "#46039f"
             ],
             [
              0.2222222222222222,
              "#7201a8"
             ],
             [
              0.3333333333333333,
              "#9c179e"
             ],
             [
              0.4444444444444444,
              "#bd3786"
             ],
             [
              0.5555555555555556,
              "#d8576b"
             ],
             [
              0.6666666666666666,
              "#ed7953"
             ],
             [
              0.7777777777777778,
              "#fb9f3a"
             ],
             [
              0.8888888888888888,
              "#fdca26"
             ],
             [
              1,
              "#f0f921"
             ]
            ],
            "type": "histogram2d"
           }
          ],
          "histogram2dcontour": [
           {
            "colorbar": {
             "outlinewidth": 0,
             "ticks": ""
            },
            "colorscale": [
             [
              0,
              "#0d0887"
             ],
             [
              0.1111111111111111,
              "#46039f"
             ],
             [
              0.2222222222222222,
              "#7201a8"
             ],
             [
              0.3333333333333333,
              "#9c179e"
             ],
             [
              0.4444444444444444,
              "#bd3786"
             ],
             [
              0.5555555555555556,
              "#d8576b"
             ],
             [
              0.6666666666666666,
              "#ed7953"
             ],
             [
              0.7777777777777778,
              "#fb9f3a"
             ],
             [
              0.8888888888888888,
              "#fdca26"
             ],
             [
              1,
              "#f0f921"
             ]
            ],
            "type": "histogram2dcontour"
           }
          ],
          "mesh3d": [
           {
            "colorbar": {
             "outlinewidth": 0,
             "ticks": ""
            },
            "type": "mesh3d"
           }
          ],
          "parcoords": [
           {
            "line": {
             "colorbar": {
              "outlinewidth": 0,
              "ticks": ""
             }
            },
            "type": "parcoords"
           }
          ],
          "pie": [
           {
            "automargin": true,
            "type": "pie"
           }
          ],
          "scatter": [
           {
            "fillpattern": {
             "fillmode": "overlay",
             "size": 10,
             "solidity": 0.2
            },
            "type": "scatter"
           }
          ],
          "scatter3d": [
           {
            "line": {
             "colorbar": {
              "outlinewidth": 0,
              "ticks": ""
             }
            },
            "marker": {
             "colorbar": {
              "outlinewidth": 0,
              "ticks": ""
             }
            },
            "type": "scatter3d"
           }
          ],
          "scattercarpet": [
           {
            "marker": {
             "colorbar": {
              "outlinewidth": 0,
              "ticks": ""
             }
            },
            "type": "scattercarpet"
           }
          ],
          "scattergeo": [
           {
            "marker": {
             "colorbar": {
              "outlinewidth": 0,
              "ticks": ""
             }
            },
            "type": "scattergeo"
           }
          ],
          "scattergl": [
           {
            "marker": {
             "colorbar": {
              "outlinewidth": 0,
              "ticks": ""
             }
            },
            "type": "scattergl"
           }
          ],
          "scattermapbox": [
           {
            "marker": {
             "colorbar": {
              "outlinewidth": 0,
              "ticks": ""
             }
            },
            "type": "scattermapbox"
           }
          ],
          "scatterpolar": [
           {
            "marker": {
             "colorbar": {
              "outlinewidth": 0,
              "ticks": ""
             }
            },
            "type": "scatterpolar"
           }
          ],
          "scatterpolargl": [
           {
            "marker": {
             "colorbar": {
              "outlinewidth": 0,
              "ticks": ""
             }
            },
            "type": "scatterpolargl"
           }
          ],
          "scatterternary": [
           {
            "marker": {
             "colorbar": {
              "outlinewidth": 0,
              "ticks": ""
             }
            },
            "type": "scatterternary"
           }
          ],
          "surface": [
           {
            "colorbar": {
             "outlinewidth": 0,
             "ticks": ""
            },
            "colorscale": [
             [
              0,
              "#0d0887"
             ],
             [
              0.1111111111111111,
              "#46039f"
             ],
             [
              0.2222222222222222,
              "#7201a8"
             ],
             [
              0.3333333333333333,
              "#9c179e"
             ],
             [
              0.4444444444444444,
              "#bd3786"
             ],
             [
              0.5555555555555556,
              "#d8576b"
             ],
             [
              0.6666666666666666,
              "#ed7953"
             ],
             [
              0.7777777777777778,
              "#fb9f3a"
             ],
             [
              0.8888888888888888,
              "#fdca26"
             ],
             [
              1,
              "#f0f921"
             ]
            ],
            "type": "surface"
           }
          ],
          "table": [
           {
            "cells": {
             "fill": {
              "color": "#EBF0F8"
             },
             "line": {
              "color": "white"
             }
            },
            "header": {
             "fill": {
              "color": "#C8D4E3"
             },
             "line": {
              "color": "white"
             }
            },
            "type": "table"
           }
          ]
         },
         "layout": {
          "annotationdefaults": {
           "arrowcolor": "#2a3f5f",
           "arrowhead": 0,
           "arrowwidth": 1
          },
          "autotypenumbers": "strict",
          "coloraxis": {
           "colorbar": {
            "outlinewidth": 0,
            "ticks": ""
           }
          },
          "colorscale": {
           "diverging": [
            [
             0,
             "#8e0152"
            ],
            [
             0.1,
             "#c51b7d"
            ],
            [
             0.2,
             "#de77ae"
            ],
            [
             0.3,
             "#f1b6da"
            ],
            [
             0.4,
             "#fde0ef"
            ],
            [
             0.5,
             "#f7f7f7"
            ],
            [
             0.6,
             "#e6f5d0"
            ],
            [
             0.7,
             "#b8e186"
            ],
            [
             0.8,
             "#7fbc41"
            ],
            [
             0.9,
             "#4d9221"
            ],
            [
             1,
             "#276419"
            ]
           ],
           "sequential": [
            [
             0,
             "#0d0887"
            ],
            [
             0.1111111111111111,
             "#46039f"
            ],
            [
             0.2222222222222222,
             "#7201a8"
            ],
            [
             0.3333333333333333,
             "#9c179e"
            ],
            [
             0.4444444444444444,
             "#bd3786"
            ],
            [
             0.5555555555555556,
             "#d8576b"
            ],
            [
             0.6666666666666666,
             "#ed7953"
            ],
            [
             0.7777777777777778,
             "#fb9f3a"
            ],
            [
             0.8888888888888888,
             "#fdca26"
            ],
            [
             1,
             "#f0f921"
            ]
           ],
           "sequentialminus": [
            [
             0,
             "#0d0887"
            ],
            [
             0.1111111111111111,
             "#46039f"
            ],
            [
             0.2222222222222222,
             "#7201a8"
            ],
            [
             0.3333333333333333,
             "#9c179e"
            ],
            [
             0.4444444444444444,
             "#bd3786"
            ],
            [
             0.5555555555555556,
             "#d8576b"
            ],
            [
             0.6666666666666666,
             "#ed7953"
            ],
            [
             0.7777777777777778,
             "#fb9f3a"
            ],
            [
             0.8888888888888888,
             "#fdca26"
            ],
            [
             1,
             "#f0f921"
            ]
           ]
          },
          "colorway": [
           "#636efa",
           "#EF553B",
           "#00cc96",
           "#ab63fa",
           "#FFA15A",
           "#19d3f3",
           "#FF6692",
           "#B6E880",
           "#FF97FF",
           "#FECB52"
          ],
          "font": {
           "color": "#2a3f5f"
          },
          "geo": {
           "bgcolor": "white",
           "lakecolor": "white",
           "landcolor": "#E5ECF6",
           "showlakes": true,
           "showland": true,
           "subunitcolor": "white"
          },
          "hoverlabel": {
           "align": "left"
          },
          "hovermode": "closest",
          "mapbox": {
           "style": "light"
          },
          "paper_bgcolor": "white",
          "plot_bgcolor": "#E5ECF6",
          "polar": {
           "angularaxis": {
            "gridcolor": "white",
            "linecolor": "white",
            "ticks": ""
           },
           "bgcolor": "#E5ECF6",
           "radialaxis": {
            "gridcolor": "white",
            "linecolor": "white",
            "ticks": ""
           }
          },
          "scene": {
           "xaxis": {
            "backgroundcolor": "#E5ECF6",
            "gridcolor": "white",
            "gridwidth": 2,
            "linecolor": "white",
            "showbackground": true,
            "ticks": "",
            "zerolinecolor": "white"
           },
           "yaxis": {
            "backgroundcolor": "#E5ECF6",
            "gridcolor": "white",
            "gridwidth": 2,
            "linecolor": "white",
            "showbackground": true,
            "ticks": "",
            "zerolinecolor": "white"
           },
           "zaxis": {
            "backgroundcolor": "#E5ECF6",
            "gridcolor": "white",
            "gridwidth": 2,
            "linecolor": "white",
            "showbackground": true,
            "ticks": "",
            "zerolinecolor": "white"
           }
          },
          "shapedefaults": {
           "line": {
            "color": "#2a3f5f"
           }
          },
          "ternary": {
           "aaxis": {
            "gridcolor": "white",
            "linecolor": "white",
            "ticks": ""
           },
           "baxis": {
            "gridcolor": "white",
            "linecolor": "white",
            "ticks": ""
           },
           "bgcolor": "#E5ECF6",
           "caxis": {
            "gridcolor": "white",
            "linecolor": "white",
            "ticks": ""
           }
          },
          "title": {
           "x": 0.05
          },
          "xaxis": {
           "automargin": true,
           "gridcolor": "white",
           "linecolor": "white",
           "ticks": "",
           "title": {
            "standoff": 15
           },
           "zerolinecolor": "white",
           "zerolinewidth": 2
          },
          "yaxis": {
           "automargin": true,
           "gridcolor": "white",
           "linecolor": "white",
           "ticks": "",
           "title": {
            "standoff": 15
           },
           "zerolinecolor": "white",
           "zerolinewidth": 2
          }
         }
        },
        "title": {
         "text": "Sankey Diagram of the Climate change impacts for aluminium foil production process",
         "x": 0.5
        }
       }
      }
     },
     "metadata": {},
     "output_type": "display_data"
    }
   ],
   "source": [
    "import plotly.graph_objects as go\n",
    "import nbformat as nb\n",
    "\n",
    "sorted_nodes = sorted(g.nodes, key=lambda n: n.index)\n",
    "print (tabulate(sorted_nodes,headers=\"keys\"))\n",
    "# Define the nodes\n",
    "nodes = []\n",
    "for n in sorted_nodes:\n",
    "    nodes.append(n.tech_flow.flow.name)\n",
    "\n",
    "# Define the links\n",
    "links = []\n",
    "for e in g.edges : \n",
    "    links.append(dict(source=e.provider_index, target=e.node_index, value=e.upstream_share*tot_scaling.amount))\n",
    "\n",
    "\n",
    "# Create the Sankey diagram\n",
    "fig = go.Figure(data=[go.Sankey(\n",
    "    node=dict(\n",
    "        pad=250,\n",
    "        thickness=20,\n",
    "        line=dict(color='black', width=0.5),\n",
    "        label=nodes,\n",
    "    ),\n",
    "    link=dict(\n",
    "        source=[link['source'] for link in links],\n",
    "        target=[link['target'] for link in links],\n",
    "        value=[link['value'] for link in links],\n",
    "    )\n",
    ")])\n",
    "\n",
    "fig.update_layout(title_text=f\"Sankey Diagram of the {imp_cat_for_sankey.name} impacts for {model.name} process\",  title_x=0.5)\n",
    "# Display the plot\n",
    "fig.show()\n"
   ]
  },
  {
   "cell_type": "code",
   "execution_count": null,
   "metadata": {},
   "outputs": [],
   "source": []
  }
 ],
 "metadata": {
  "kernelspec": {
   "display_name": ".venv",
   "language": "python",
   "name": "python3"
  },
  "language_info": {
   "codemirror_mode": {
    "name": "ipython",
    "version": 3
   },
   "file_extension": ".py",
   "mimetype": "text/x-python",
   "name": "python",
   "nbconvert_exporter": "python",
   "pygments_lexer": "ipython3",
   "version": "3.11.6"
  }
 },
 "nbformat": 4,
 "nbformat_minor": 2
}
