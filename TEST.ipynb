{
 "cells": [
  {
   "cell_type": "markdown",
   "metadata": {},
   "source": [
    "Initialization pof the IPC Communication \n",
    "1. Open OPENLCA, activate the relevent database\n",
    "2. Tools > Developper Tools > IPC Server > run the server with the correct port"
   ]
  },
  {
   "cell_type": "code",
   "execution_count": 1,
   "metadata": {},
   "outputs": [],
   "source": [
    "import olca_ipc as ipc\n",
    "import olca_schema as o\n",
    "import pandas as pd\n",
    "import numpy as np\n",
    "import json\n",
    "\n",
    "from typing import Callable\n",
    "###########################################################\n",
    "client = ipc.Client(8080)"
   ]
  },
  {
   "cell_type": "markdown",
   "metadata": {},
   "source": [
    "Technosphere matrice for 4 process with the 4 process \n"
   ]
  },
  {
   "cell_type": "code",
   "execution_count": 2,
   "metadata": {},
   "outputs": [
    {
     "name": "stdout",
     "output_type": "stream",
     "text": [
      "                             electricity production  aluminium production  \\\n",
      "electricity [MJ]                               1.00                 -50.0   \n",
      "aluminium [kg]                                -0.01                   1.0   \n",
      "aluminium foil [kg]                            0.00                   0.0   \n",
      "sandwitch package [Item(s)]                    0.00                   0.0   \n",
      "\n",
      "                             aluminium foil production  \\\n",
      "electricity [MJ]                                  -1.0   \n",
      "aluminium [kg]                                    -1.0   \n",
      "aluminium foil [kg]                                1.0   \n",
      "sandwitch package [Item(s)]                        0.0   \n",
      "\n",
      "                             sandwitch package production  \n",
      "electricity [MJ]                                      0.0  \n",
      "aluminium [kg]                                        0.0  \n",
      "aluminium foil [kg]                                  -1.0  \n",
      "sandwitch package [Item(s)]                         100.0  \n"
     ]
    }
   ],
   "source": [
    "technosphere = pd.DataFrame(\n",
    "    data=[\n",
    "        [1.0, -50.0, -1.0, 0.0],\n",
    "        [-0.01, 1.0, -1.0, 0.0],\n",
    "        [0.0, 0.0, 1.0, -1.0],\n",
    "        [0.0, 0.0, 0.0, 100],\n",
    "    ],\n",
    "    columns=[\n",
    "        \"electricity production\",\n",
    "        \"aluminium production\",\n",
    "        \"aluminium foil production\",\n",
    "        \"sandwitch package production\",\n",
    "    ],\n",
    "    index=[\n",
    "        \"electricity [MJ]\",\n",
    "        \"aluminium [kg]\",\n",
    "        \"aluminium foil [kg]\",\n",
    "        \"sandwitch package [Item(s)]\",\n",
    "    ],\n",
    ")\n",
    "print(technosphere)"
   ]
  },
  {
   "cell_type": "markdown",
   "metadata": {},
   "source": [
    "technosphere to biosphere "
   ]
  },
  {
   "cell_type": "code",
   "execution_count": 3,
   "metadata": {},
   "outputs": [
    {
     "name": "stdout",
     "output_type": "stream",
     "text": [
      "                  electricity production  aluminium production  \\\n",
      "bauxite [kg]                         0.0                  -5.0   \n",
      "crude oil [kg]                      -0.5                   0.0   \n",
      "CO2 [kg]                             3.0                   0.0   \n",
      "solid waste [kg]                     2.0                  10.0   \n",
      "\n",
      "                  aluminium foil production  sandwitch package production  \n",
      "bauxite [kg]                            0.0                           0.0  \n",
      "crude oil [kg]                          0.0                           0.0  \n",
      "CO2 [kg]                                0.0                           0.0  \n",
      "solid waste [kg]                        0.0                           1.0  \n"
     ]
    }
   ],
   "source": [
    "interventions = pd.DataFrame(\n",
    "    data=[\n",
    "        [0.0, -5.0, 0.0, 0.0],\n",
    "        [-0.5, 0.0, 0.0, 0.0],\n",
    "        [3.0, 0.0, 0.0, 0.0],\n",
    "        [2.0, 10.0, 0.0, 1.0],\n",
    "    ],\n",
    "    columns=technosphere.columns,\n",
    "    index=[\n",
    "        \"bauxite [kg]\",\n",
    "        \"crude oil [kg]\",\n",
    "        \"CO2 [kg]\",\n",
    "        \"solid waste [kg]\",\n",
    "    ],\n",
    ")\n",
    "print(interventions)"
   ]
  },
  {
   "cell_type": "code",
   "execution_count": 4,
   "metadata": {},
   "outputs": [
    {
     "name": "stdout",
     "output_type": "stream",
     "text": [
      "                      0\n",
      "bauxite [kg]      -1.01\n",
      "crude oil [kg]    -5.10\n",
      "CO2 [kg]          30.60\n",
      "solid waste [kg]  22.52\n"
     ]
    }
   ],
   "source": [
    "f = [\n",
    "    0.0,\n",
    "    0.0,\n",
    "    0.0,\n",
    "    10,\n",
    "]\n",
    "s = np.linalg.solve(technosphere.to_numpy(), f)\n",
    "g = interventions.to_numpy() @ s\n",
    "print(pd.DataFrame(g, index=interventions.index))"
   ]
  },
  {
   "cell_type": "code",
   "execution_count": 6,
   "metadata": {},
   "outputs": [
    {
     "name": "stdout",
     "output_type": "stream",
     "text": [
      "{\n",
      "  \"@type\": \"FlowProperty\",\n",
      "  \"@id\": \"93a60a56-a3c8-11da-a746-0800200b9a66\",\n",
      "  \"category\": \"Technical flow properties\",\n",
      "  \"description\": \"\",\n",
      "  \"flowPropertyType\": \"PHYSICAL_QUANTITY\",\n",
      "  \"lastChange\": \"2023-11-20T07:53:54.682948Z\",\n",
      "  \"name\": \"Mass\",\n",
      "  \"unitGroup\": {\n",
      "    \"@type\": \"UnitGroup\",\n",
      "    \"@id\": \"93a60a57-a4c8-11da-a746-0800200c9a66\",\n",
      "    \"category\": \"Technical unit groups\",\n",
      "    \"name\": \"Units of mass\"\n",
      "  },\n",
      "  \"version\": \"00.00.000\"\n",
      "}\n"
     ]
    }
   ],
   "source": [
    "mass_units = o.new_unit_group(\"Mass units\", \"kg\")\n",
    "energy_units = o.new_unit_group(\"Energy units\", \"MJ\")\n",
    "counting_units = o.new_unit_group(\"Counting units\", \"Item(s)\")\n",
    "mass = o.new_flow_property(\"Mass\", mass_units)\n",
    "energy = o.new_flow_property(\"Energy\", energy_units)\n",
    "count = o.new_flow_property(\"Number of items\", counting_units)\n",
    "\n",
    "client.put_all(\n",
    "    mass_units,\n",
    "    energy_units,\n",
    "    counting_units,\n",
    "    mass,\n",
    "    energy,\n",
    "    count,\n",
    ")\n",
    "print(client.get(o.FlowProperty, name=\"Mass\").to_json())"
   ]
  },
  {
   "cell_type": "code",
   "execution_count": 16,
   "metadata": {},
   "outputs": [],
   "source": [
    "def create_flow(\n",
    "    row_label: str, fn: Callable[[str, o.FlowProperty], o.Flow]\n",
    ") -> o.Flow:\n",
    "    parts = row_label.split(\"[\")\n",
    "    name = parts[0].strip()\n",
    "    unit = parts[1][0:-1].strip()\n",
    "    match unit:\n",
    "        case \"kg\":\n",
    "            prop = mass\n",
    "        case \"MJ\":\n",
    "            prop = energy\n",
    "        case \"Item(s)\":\n",
    "            prop = count\n",
    "    flow = fn(name, prop)\n",
    "    client.put(flow)\n",
    "    return flow\n",
    "\n",
    "\n",
    "tech_flows = [create_flow(label, o.new_product) for label in technosphere.index]\n",
    "envi_flows = [\n",
    "    create_flow(label, o.new_elementary_flow) for label in interventions.index\n",
    "]"
   ]
  },
  {
   "cell_type": "code",
   "execution_count": 17,
   "metadata": {},
   "outputs": [],
   "source": [
    "def create_process(index: int, name: str) -> o.Process:\n",
    "    process = o.new_process(name)\n",
    "\n",
    "    def exchange(flow: o.Flow, value: float) -> o.Exchange | None:\n",
    "        if value == 0:\n",
    "            return None\n",
    "        if value < 0:\n",
    "            return o.new_input(process, flow, abs(value))\n",
    "        else:\n",
    "            return o.new_output(process, flow, value)\n",
    "\n",
    "    for (i, tech_flow) in enumerate(tech_flows):\n",
    "        value = technosphere.iat[i, index]\n",
    "        e = exchange(tech_flow, value)\n",
    "        if e and i == index:\n",
    "            e.is_quantitative_reference = True\n",
    "\n",
    "    for (i, envi_flow) in enumerate(envi_flows):\n",
    "        value = interventions.iat[i, index]\n",
    "        exchange(envi_flow, value)\n",
    "\n",
    "    client.put(process)\n",
    "    return process\n",
    "\n",
    "\n",
    "processes = [\n",
    "    create_process(index, name)\n",
    "    for (index, name) in enumerate(technosphere.columns)\n",
    "]"
   ]
  },
  {
   "cell_type": "markdown",
   "metadata": {},
   "source": [
    "Calculation setup 1"
   ]
  },
  {
   "cell_type": "code",
   "execution_count": 18,
   "metadata": {},
   "outputs": [
    {
     "name": "stdout",
     "output_type": "stream",
     "text": [
      "          Flow  Is input?  Amount Unit\n",
      "0    crude oil       True    0.00   kg\n",
      "1  solid waste      False    0.00   kg\n",
      "2          CO2      False    0.00   kg\n",
      "3      bauxite       True    0.00   kg\n",
      "4  solid waste      False   22.52   kg\n",
      "5          CO2      False   30.60   kg\n",
      "6    crude oil       True    5.10   kg\n",
      "7      bauxite       True    1.01   kg\n"
     ]
    }
   ],
   "source": [
    "setup = o.CalculationSetup(\n",
    "    target=o.Ref(ref_type=o.RefType.Process, id=processes[3].id),\n",
    "    unit=count.unit_group.ref_unit,  # \"Item(s)\"\n",
    "    amount=10,\n",
    ")\n",
    "result = client.calculate(setup)\n",
    "result.wait_until_ready()\n",
    "\n",
    "inventory = result.get_total_flows()\n",
    "print(\n",
    "    pd.DataFrame(\n",
    "        data=[\n",
    "            (\n",
    "                i.envi_flow.flow.name,\n",
    "                i.envi_flow.is_input,\n",
    "                i.amount,\n",
    "                i.envi_flow.flow.ref_unit,\n",
    "            )\n",
    "            for i in inventory\n",
    "        ],\n",
    "        columns=[\"Flow\", \"Is input?\", \"Amount\", \"Unit\"],\n",
    "    )\n",
    ")\n",
    "\n",
    "result.dispose()"
   ]
  },
  {
   "cell_type": "code",
   "execution_count": 21,
   "metadata": {},
   "outputs": [
    {
     "name": "stdout",
     "output_type": "stream",
     "text": [
      "sandwitch package production :: 87257a67-2f84-4486-9528-22591cd3a803\n",
      "aluminium foil production :: 7fb896e0-082b-4593-b13d-71a3fee71059\n",
      "IMPACTWorld+ (Default_Recommended_Midpoint 1.29) :: 8280f30d-2cdd-3451-b0d2-2e439f836b1e\n",
      "IMPACTWorld+ (Default_Recommended_Damage 1.47) :: ad46ddc3-1972-3261-bcce-5223501ad816\n",
      "IMPACTWorld+ (Continental Latin America_Damage 1.431) :: 563f0041-cb44-3e57-9409-d1ced60b8a2d\n",
      "IMPACTWorld+ (Continental Latin America_Midpoint 1.251) :: c9c45b61-474f-3344-a19d-51942842dac4\n"
     ]
    }
   ],
   "source": [
    "models = client.get_descriptors(o.ProductSystem)\n",
    "for model in models:\n",
    "    print(f\"{model.name} :: {model.id}\")\n",
    "model = models[0]\n",
    "\n",
    "methods = client.get_descriptors(o.ImpactMethod)\n",
    "for method in methods:\n",
    "    print(f\"{method.name} :: {method.id}\")\n",
    "method = methods[0]"
   ]
  },
  {
   "cell_type": "markdown",
   "metadata": {},
   "source": [
    "Calculation setup 2\n"
   ]
  },
  {
   "cell_type": "code",
   "execution_count": 22,
   "metadata": {},
   "outputs": [
    {
     "name": "stdout",
     "output_type": "stream",
     "text": [
      "{\n",
      "  \"impactMethod\": {\n",
      "    \"@type\": \"ImpactMethod\",\n",
      "    \"@id\": \"8280f30d-2cdd-3451-b0d2-2e439f836b1e\",\n",
      "    \"name\": \"IMPACTWorld+ (Default_Recommended_Midpoint 1.29)\"\n",
      "  },\n",
      "  \"target\": {\n",
      "    \"@type\": \"ProductSystem\",\n",
      "    \"@id\": \"87257a67-2f84-4486-9528-22591cd3a803\",\n",
      "    \"name\": \"sandwitch package production\"\n",
      "  }\n",
      "}\n",
      "Climate change, long term 306.0 kg CO2 eq (long)\n",
      "Photochemical oxidant formation 0.0 kg NMVOC eq\n",
      "Freshwater acidification 0.0 kg SO2 eq\n",
      "Mineral resources use 0.0 kg deprived\n",
      "Climate change, short term 306.0 kg CO2 eq (short)\n",
      "Land transformation, biodiversity 0.0 m2 arable land eq\n",
      "Land occupation, biodiversity 0.0 m2 arable land eq .yr\n",
      "Marine eutrophication 0.0 kg N N-lim eq\n",
      "Human toxicity non cancer 0.0 CTUh\n",
      "Particulate matter formation 0.0 kg PM2.5 eq\n",
      "Ozone Layer Depletion 0.0 kg  CFC-11 eq\n",
      "Freshwater ecotoxicity 0.0 CTUe\n",
      "Terrestrial acidification 0.0 kg SO2 eq\n",
      "Ionizing radiations 0.0 Bq C-14 eq\n",
      "Freshwater eutrophication 0.0 kg PO4 P-lim eq\n",
      "Fossil and nuclear energy use 0.0 MJ deprived\n",
      "Human toxicity cancer 0.0 CTUh\n",
      "Water scarcity 0.0 m3 world-eq\n"
     ]
    }
   ],
   "source": [
    "setup = o.CalculationSetup(\n",
    "    target=model,\n",
    "    impact_method=method,\n",
    ")\n",
    "print(json.dumps(setup.to_dict(), indent=2))\n",
    "##### Calculation ####\n",
    "result = client.calculate(setup)\n",
    "result.wait_until_ready()\n",
    "impacts = result.get_total_impacts()\n",
    "for i in impacts:\n",
    "    assert i.impact_category\n",
    "    print(f\"{i.impact_category.name} {i.amount} {i.impact_category.ref_unit}\")\n",
    "result.dispose()\n",
    "\n"
   ]
  },
  {
   "cell_type": "markdown",
   "metadata": {},
   "source": [
    "Parameters"
   ]
  },
  {
   "cell_type": "code",
   "execution_count": 23,
   "metadata": {},
   "outputs": [
    {
     "name": "stdout",
     "output_type": "stream",
     "text": [
      "parameter: NRJ_Intensivity = 1.0\n"
     ]
    }
   ],
   "source": [
    "parameters = client.get_parameters(o.ProductSystem, model.id)\n",
    "for param in parameters:\n",
    "    print(f\"parameter: {param.name} = {param.value}\")\n",
    "param = parameters[0]"
   ]
  },
  {
   "cell_type": "markdown",
   "metadata": {},
   "source": [
    "Adjust the NRJ Intensity\n"
   ]
  },
  {
   "cell_type": "code",
   "execution_count": 25,
   "metadata": {},
   "outputs": [
    {
     "name": "stdout",
     "output_type": "stream",
     "text": [
      "ParameterRedef(context=None, description=None, is_protected=None, name='NRJ_Intensivity', uncertainty=None, value=30)\n",
      "parameter: NRJ_Intensivity = 1.0\n"
     ]
    }
   ],
   "source": [
    "\n",
    "### TESTING ####\n",
    "A = o.ParameterRedef(name='NRJ_Intensivity', value = 30)\n",
    "print (A)\n",
    "for param in parameters:\n",
    "    print(f\"parameter: {param.name} = {param.value}\")\n",
    "param = parameters[0]"
   ]
  },
  {
   "cell_type": "code",
   "execution_count": 24,
   "metadata": {},
   "outputs": [
    {
     "name": "stdout",
     "output_type": "stream",
     "text": [
      "Ref(id='08e41429-497d-47a0-b09f-7cc75b35d83b', category=None, description=None, flow_type=<FlowType.PRODUCT_FLOW: 'PRODUCT_FLOW'>, location=None, name='aluminium foil production', process_type=<ProcessType.UNIT_PROCESS: 'UNIT_PROCESS'>, ref_unit=None, ref_type=<RefType.Process: 'Process'>)\n"
     ]
    }
   ],
   "source": [
    "#### TESTING ###\n",
    "\n",
    "A = param.context\n",
    "print (A)"
   ]
  },
  {
   "cell_type": "code",
   "execution_count": 30,
   "metadata": {},
   "outputs": [
    {
     "name": "stdout",
     "output_type": "stream",
     "text": [
      "NRJ_Intensivity: 0 =>  300.000 kg CO2 eq\n",
      "NRJ_Intensivity: 1 =>  306.000 kg CO2 eq\n",
      "NRJ_Intensivity: 2 =>  312.000 kg CO2 eq\n",
      "NRJ_Intensivity: 3 =>  318.000 kg CO2 eq\n",
      "NRJ_Intensivity: 4 =>  324.000 kg CO2 eq\n",
      "NRJ_Intensivity: 5 =>  330.000 kg CO2 eq\n",
      "NRJ_Intensivity: 6 =>  336.000 kg CO2 eq\n",
      "NRJ_Intensivity: 7 =>  342.000 kg CO2 eq\n",
      "NRJ_Intensivity: 8 =>  348.000 kg CO2 eq\n",
      "NRJ_Intensivity: 9 =>  354.000 kg CO2 eq\n"
     ]
    }
   ],
   "source": [
    "for x in range(0, 10, 1):\n",
    "    setup = o.CalculationSetup(\n",
    "        target=model,\n",
    "        impact_method=method,\n",
    "        parameters=[\n",
    "            o.ParameterRedef(name='NRJ_Intensivity', value=x,context=param.context)\n",
    "        ],\n",
    "    )\n",
    "    result = client.calculate(setup)\n",
    "    assert result\n",
    "    result.wait_until_ready()\n",
    "    impacts = result.get_total_impacts()\n",
    "    for i in impacts:\n",
    "        if i.impact_category.name == \"Climate change, long term\":\n",
    "            print(f\"{param.name}: {x} => {i.amount : .3f} kg CO2 eq\")\n",
    "    result.dispose()\n",
    "\n"
   ]
  },
  {
   "cell_type": "code",
   "execution_count": 31,
   "metadata": {},
   "outputs": [
    {
     "name": "stdout",
     "output_type": "stream",
     "text": [
      "Biotic Production (Transf.)\n",
      "Length*time\n",
      "Mass\n",
      "Items*Length\n",
      "Gross calorific value\n",
      "Volume*Length\n",
      "Mass*time\n",
      "Vehicle transport\n",
      "Radioactivity\n",
      "Biotic Production (Occ.)\n",
      "Area*time\n",
      "Groundwater Replenishment (Occ.)\n",
      "Energy/mass*time\n",
      "Mechanical Filtration (Occ.)\n",
      "Duration\n",
      "Market value, bulk prices\n",
      "Erosion Resistance (Transf.)\n",
      "Mechanical Filtration (Transf.)\n",
      "Net calorific value\n",
      "Area\n",
      "Energy/area*time\n",
      "Physicochemical Filtration (Occ.)\n",
      "Energy\n",
      "Erosion Resistance (Occ.)\n",
      "Normal Volume\n",
      "Volume*time\n",
      "Number of items\n",
      "Volume\n",
      "Person transport\n",
      "Groundwater Replenishment (Transf.)\n",
      "Length\n",
      "Goods transport (mass*distance)\n",
      "Physicochemical Filtration (Transf.)\n",
      "Mass\n",
      "Energy\n",
      "Number of items\n",
      "Mass\n",
      "Energy\n",
      "Number of items\n",
      "Mass\n",
      "Energy\n",
      "Number of items\n",
      "Mass\n",
      "Energy\n",
      "Number of items\n",
      "Mass\n",
      "Energy\n",
      "Number of items\n",
      "Mass\n",
      "Energy\n",
      "Number of items\n",
      "Mass\n",
      "Energy\n",
      "Number of items\n",
      "Mass\n",
      "Energy\n",
      "Number of items\n",
      "Mass\n",
      "Energy\n",
      "Number of items\n",
      "Mass\n",
      "Energy\n",
      "Number of items\n",
      "Mass\n",
      "Energy\n",
      "Number of items\n",
      "Mass\n",
      "Energy\n",
      "Number of items\n",
      "Mass\n",
      "Energy\n",
      "Number of items\n",
      "Mass\n",
      "Energy\n",
      "Number of items\n",
      "Mass\n",
      "Energy\n",
      "Number of items\n",
      "Mass\n",
      "Energy\n",
      "Number of items\n",
      "Mass\n",
      "Energy\n",
      "Number of items\n"
     ]
    }
   ],
   "source": [
    "refs = client.get_descriptors(o.FlowProperty)\n",
    "for ref in refs:\n",
    "    print(ref.name)\n",
    "# Area\n",
    "# Area*time\n",
    "# Duration\n",
    "# Energy"
   ]
  }
 ],
 "metadata": {
  "kernelspec": {
   "display_name": ".venv",
   "language": "python",
   "name": "python3"
  },
  "language_info": {
   "codemirror_mode": {
    "name": "ipython",
    "version": 3
   },
   "file_extension": ".py",
   "mimetype": "text/x-python",
   "name": "python",
   "nbconvert_exporter": "python",
   "pygments_lexer": "ipython3",
   "version": "3.11.6"
  }
 },
 "nbformat": 4,
 "nbformat_minor": 2
}
