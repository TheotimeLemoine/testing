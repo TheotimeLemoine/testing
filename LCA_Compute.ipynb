{
 "cells": [
  {
   "cell_type": "markdown",
   "metadata": {},
   "source": [
    "<font size=12px>Python script to build product system, compute LCA  </font>\n",
    "\n",
    "This script blablabla .... \n",
    "\n",
    "<font size=2px>First, the import everything using the Import script & verify that the database are well loaded ! \n",
    "* Ecoinvent datasets (cut-off modelling) \n",
    "* ESA datasets\n",
    "* Nyx Earth Life cycle modelling datasets\n",
    "\n",
    "</font>"
   ]
  },
  {
   "cell_type": "code",
   "execution_count": 12,
   "metadata": {},
   "outputs": [],
   "source": [
    "#### Lib Imports _ Please select a kernel with the latest version of olca IPC API  [TBVerified and replicated]\n",
    "import pandas as pd\n",
    "import numpy as np\n",
    "import json\n",
    "from tabulate import tabulate\n",
    "import random as rand\n",
    "from datetime import datetime, timedelta\n",
    "import statistics as stats\n",
    "import matplotlib as mp\n",
    "import matplotlib.pyplot as plt\n",
    "import scipy.stats as stat\n",
    "#import olca as ipc (Old_version of Ipc API)\n",
    "import olca_ipc as ipc\n",
    "import olca_schema as o\n",
    "import plotly.graph_objects as go\n",
    "import nbformat as nb\n",
    "\n",
    "\n",
    "\n",
    "from typing import Callable\n",
    "###########################################################\n",
    "client = ipc.Client(8080)\n",
    "# OpenLCA IPC server Port\n",
    "###########################################################"
   ]
  },
  {
   "cell_type": "code",
   "execution_count": 93,
   "metadata": {},
   "outputs": [
    {
     "name": "stdout",
     "output_type": "stream",
     "text": [
      "\n",
      "Product Systems :\n",
      "Power System : 1.0 Item(s) ___ Version : 00.00.000 Last Updt : 2023-11-27T15:41:26.156Z\n",
      "Power System Assembly & Qualification : 1.0 Item(s) ___ Version : 00.00.000 Last Updt : 2023-11-28T09:42:33.673Z\n",
      "\n",
      "Impact Methods :\n",
      "Tests ImpactMethod :: ac3cd8bd-3c4a-425c-a25c-63b3eede91f8\n",
      "\n",
      "PBS :\n",
      "Battery Ref(id='ed53308d-d0fd-4d4b-85ba-896f2e1afbe0', category='Nyx Earth PBS', description=None, flow_type=<FlowType.PRODUCT_FLOW: 'PRODUCT_FLOW'>, location=None, name='Battery', process_type=<ProcessType.UNIT_PROCESS: 'UNIT_PROCESS'>, ref_unit=None, ref_type=<RefType.Process: 'Process'>) :: ed53308d-d0fd-4d4b-85ba-896f2e1afbe0\n",
      "Control Unit Ref(id='58fd6ee5-43f8-4814-b188-d6b05a36158b', category='Nyx Earth PBS', description=None, flow_type=<FlowType.PRODUCT_FLOW: 'PRODUCT_FLOW'>, location=None, name='Control Unit', process_type=<ProcessType.UNIT_PROCESS: 'UNIT_PROCESS'>, ref_unit=None, ref_type=<RefType.Process: 'Process'>) :: 58fd6ee5-43f8-4814-b188-d6b05a36158b\n",
      "Power System Ref(id='4fc1a016-3532-4144-b6f5-e38165d59f57', category='Nyx Earth PBS', description=None, flow_type=<FlowType.PRODUCT_FLOW: 'PRODUCT_FLOW'>, location=None, name='Power System', process_type=<ProcessType.UNIT_PROCESS: 'UNIT_PROCESS'>, ref_unit=None, ref_type=<RefType.Process: 'Process'>) :: 4fc1a016-3532-4144-b6f5-e38165d59f57\n",
      "Harness 4 Power Ref(id='367ab989-fa3b-4bdd-a31e-3989f0907fe3', category='Nyx Earth PBS', description=None, flow_type=<FlowType.PRODUCT_FLOW: 'PRODUCT_FLOW'>, location=None, name='Harness 4 Power', process_type=<ProcessType.UNIT_PROCESS: 'UNIT_PROCESS'>, ref_unit=None, ref_type=<RefType.Process: 'Process'>) :: 367ab989-fa3b-4bdd-a31e-3989f0907fe3\n",
      "Power System Assembly & Qualification Ref(id='b1073cea-d2f9-47f7-9f53-88d3cc70b72d', category='Nyx Earth PBS', description=None, flow_type=<FlowType.PRODUCT_FLOW: 'PRODUCT_FLOW'>, location=None, name='Power System Assembly & Qualification', process_type=<ProcessType.UNIT_PROCESS: 'UNIT_PROCESS'>, ref_unit=None, ref_type=<RefType.Process: 'Process'>) :: b1073cea-d2f9-47f7-9f53-88d3cc70b72d\n",
      "\n",
      "Processes :\n"
     ]
    }
   ],
   "source": [
    "print(\"\\nProduct Systems :\")\n",
    "for group_PS in client.get_all(o.ProductSystem):\n",
    "    print(f\"{group_PS.name} : {group_PS.target_amount} {group_PS.target_unit.name} ___ Version : {group_PS.version} Last Updt : {group_PS.last_change}\" )\n",
    "\n",
    "print(\"\\nImpact Methods :\")\n",
    "for group_IM in client.get_descriptors(o.ImpactMethod):\n",
    "    print(f\"{group_IM.name} {group_IM.ref_type.name} :: {group_IM.id}\")\n",
    "\n",
    "print(\"\\nPBS :\")\n",
    "for group_PBS in client.get_descriptors(o.Process):\n",
    "    if group_PBS.category == \"Nyx Earth PBS\" : \n",
    "        print(f\"{group_PBS.name} {group_PBS} :: {group_PBS.id}\")\n",
    "\n",
    "\n",
    "print(\"\\nProcesses :\")\n",
    "for group_Proc in client.get_descriptors(o.Process):\n",
    "    if group_Proc.category == \"Nyx Earth\" : \n",
    "        print(f\"{group_Proc.name} {group_Proc} :: {group_Proc.id}\")"
   ]
  },
  {
   "cell_type": "markdown",
   "metadata": {},
   "source": [
    "Create a Product System // Needs the root entity\n",
    "\n",
    "<font size=3px>This method creates a product system for a given process. It recursively links the processes of that system according to the given linking configuration.\n",
    "\n",
    "Linking config : https://greendelta.github.io/olca-schema/classes/LinkingConfig.html </font>"
   ]
  },
  {
   "cell_type": "code",
   "execution_count": 1,
   "metadata": {},
   "outputs": [
    {
     "ename": "NameError",
     "evalue": "name 'client' is not defined",
     "output_type": "error",
     "traceback": [
      "\u001b[1;31m---------------------------------------------------------------------------\u001b[0m",
      "\u001b[1;31mNameError\u001b[0m                                 Traceback (most recent call last)",
      "\u001b[1;32mc:\\LCA_OLD\\LCA_Compute.ipynb Cell 5\u001b[0m line \u001b[0;36m1\n\u001b[1;32m----> <a href='vscode-notebook-cell:/c%3A/LCA_OLD/LCA_Compute.ipynb#W4sZmlsZQ%3D%3D?line=0'>1</a>\u001b[0m process_ref \u001b[39m=\u001b[39m client\u001b[39m.\u001b[39mfind(o\u001b[39m.\u001b[39mProcess, \u001b[39m\"\u001b[39m\u001b[39mPower System Assembly & Qualification\u001b[39m\u001b[39m\"\u001b[39m)\n\u001b[0;32m      <a href='vscode-notebook-cell:/c%3A/LCA_OLD/LCA_Compute.ipynb#W4sZmlsZQ%3D%3D?line=2'>3</a>\u001b[0m config \u001b[39m=\u001b[39m o\u001b[39m.\u001b[39mLinkingConfig(\n\u001b[0;32m      <a href='vscode-notebook-cell:/c%3A/LCA_OLD/LCA_Compute.ipynb#W4sZmlsZQ%3D%3D?line=3'>4</a>\u001b[0m     prefer_unit_processes\u001b[39m=\u001b[39m\u001b[39mTrue\u001b[39;00m,\n\u001b[0;32m      <a href='vscode-notebook-cell:/c%3A/LCA_OLD/LCA_Compute.ipynb#W4sZmlsZQ%3D%3D?line=4'>5</a>\u001b[0m     provider_linking\u001b[39m=\u001b[39mo\u001b[39m.\u001b[39mProviderLinking\u001b[39m.\u001b[39mPREFER_DEFAULTS,\n\u001b[0;32m      <a href='vscode-notebook-cell:/c%3A/LCA_OLD/LCA_Compute.ipynb#W4sZmlsZQ%3D%3D?line=5'>6</a>\u001b[0m )\n\u001b[0;32m      <a href='vscode-notebook-cell:/c%3A/LCA_OLD/LCA_Compute.ipynb#W4sZmlsZQ%3D%3D?line=6'>7</a>\u001b[0m system_ref \u001b[39m=\u001b[39m client\u001b[39m.\u001b[39mcreate_product_system(process_ref, config)\n",
      "\u001b[1;31mNameError\u001b[0m: name 'client' is not defined"
     ]
    }
   ],
   "source": [
    "process_ref = client.find(o.Process, \"Power System Assembly & Qualification\")\n",
    "\n",
    "config = o.LinkingConfig(\n",
    "    prefer_unit_processes=True,\n",
    "    provider_linking=o.ProviderLinking.PREFER_DEFAULTS,\n",
    ")\n",
    "system_ref = client.create_product_system(process_ref, config)\n",
    "\n",
    "print(f\"created product system {system_ref.name}, id = {system_ref.id}\")"
   ]
  },
  {
   "cell_type": "code",
   "execution_count": 14,
   "metadata": {},
   "outputs": [
    {
     "name": "stdout",
     "output_type": "stream",
     "text": [
      "deleting product system Power System Assembly & Qualification, id = 9fb462a4-5db7-4a93-932d-7a35872e245c\n",
      "created product system Power System Assembly & Qualification, id = 5fdebd17-0ce9-4f4f-8616-940885d8b284\n"
     ]
    }
   ],
   "source": [
    "Product= \"Power System Assembly & Qualification\"\n",
    "process_ref = client.find(o.Process, Product)\n",
    "tobedeleted = client.find(o.ProductSystem, Product)\n",
    "\n",
    "config = o.LinkingConfig(\n",
    "    prefer_unit_processes=True,\n",
    "    provider_linking=o.ProviderLinking.PREFER_DEFAULTS,\n",
    ")\n",
    "print(f\"deleting product system {tobedeleted.name}, id = {tobedeleted.id}\")\n",
    "client.delete(tobedeleted)\n",
    "\n",
    "system_ref = client.create_product_system(process_ref, config)\n",
    "\n",
    "print(f\"created product system {system_ref.name}, id = {system_ref.id}\")"
   ]
  },
  {
   "cell_type": "code",
   "execution_count": 15,
   "metadata": {},
   "outputs": [
    {
     "name": "stdout",
     "output_type": "stream",
     "text": [
      "Power System :: c66c6ac0-144a-47f9-9efa-8c77bf517634\n",
      "Power System Assembly & Qualification :: 5fdebd17-0ce9-4f4f-8616-940885d8b284\n",
      "\n",
      "Impact Methods\n",
      "Tests :: ac3cd8bd-3c4a-425c-a25c-63b3eede91f8\n"
     ]
    }
   ],
   "source": [
    "### Check all the product system available\n",
    "models = client.get_descriptors(o.ProductSystem)\n",
    "for model in models: print(f\"{model.name} :: {model.id}\")\n",
    " \n",
    "#### CHeck all the impact model available\n",
    "print(\"\\nImpact Methods\")\n",
    "methods = client.get_descriptors(o.ImpactMethod)\n",
    "for method in methods: print(f\"{method.name} :: {method.id}\")"
   ]
  },
  {
   "cell_type": "code",
   "execution_count": 94,
   "metadata": {},
   "outputs": [
    {
     "name": "stdout",
     "output_type": "stream",
     "text": [
      "LCA Calculation of Power System using the Tests assessment method\n",
      "\n",
      "result id: 2b68e5d9-f126-43d1-89f7-a7371db765c1\n",
      " \n",
      "Impacts Results\n",
      "Waste Production 142.402 kg\n",
      "Global Warming 3185.36 kg C02-eq\n",
      "Abiotic Ressource depletion 1184.3235 kg\n",
      "\n",
      " Inventory\n",
      "    Env. Flow  Is input?     Amount Unit\n",
      "0         Al       True    94.2005   kg\n",
      "1      Fioul       True   949.1230   kg\n",
      "2     Wastes      False   142.4020   kg\n",
      "3        C02      False  3185.3600   kg\n",
      "4   Plastics       True   141.0000   kg\n",
      "5  Al _ Part       True    14.0000   kg\n"
     ]
    }
   ],
   "source": [
    "## Direct Selection \n",
    "LCA_Prod_syst = client.find (o.ProductSystem, name = \"Power System\")\n",
    "LCA_Impact_method= client.find(o.ImpactMethod, name=\"Tests\")\n",
    "print (f\"LCA Calculation of {LCA_Prod_syst.name} using the {LCA_Impact_method.name} assessment method\\n\")\n",
    "\n",
    "# create a calculation setup\n",
    "setup = o.CalculationSetup(\n",
    "    target= LCA_Prod_syst,\n",
    "    impact_method=LCA_Impact_method,\n",
    ")\n",
    "\n",
    "# run a calculation\n",
    "client = ipc.Client()\n",
    "result: ipc.Result = client.calculate(setup)\n",
    "\n",
    "### Check if Any error\n",
    "state = result.get_state()\n",
    "if state.error:\n",
    "    print(f\"calculation failed: {state.error}\")\n",
    "    exit(-1)\n",
    "\n",
    "# or better do this:\n",
    "state = result.wait_until_ready()\n",
    "print(f\"result id: {state.id}\\n\",\"\\nImpacts Results\")\n",
    "#client.put(o.Result(id=state.id,    flow_results=,    impact_method=,    impact_results=,    name=f\"LCA results of {LCA_Prod_syst.name} using the {LCA_Impact_method.name} assessment method\",product_system= ))\n",
    "\n",
    "LCA_Impact_table = result.get_total_impacts()\n",
    "for i in LCA_Impact_table:\n",
    "    assert i.impact_category\n",
    "    print(f\"{i.impact_category.name} {i.amount} {i.impact_category.ref_unit}\")\n",
    "\n",
    "\n",
    "inventory = result.get_total_flows()\n",
    "print(\"\\n Inventory\\n\",\n",
    "    pd.DataFrame(\n",
    "        data=[\n",
    "            (\n",
    "                i.envi_flow.flow.name,\n",
    "                i.envi_flow.is_input,\n",
    "                i.amount,\n",
    "                i.envi_flow.flow.ref_unit,\n",
    "            )\n",
    "            for i in inventory\n",
    "        ],\n",
    "        columns=[\"Env. Flow\", \"Is input?\", \"Amount\", \"Unit\"],\n",
    "    )\n",
    ")\n",
    "\n"
   ]
  },
  {
   "cell_type": "markdown",
   "metadata": {},
   "source": [
    "BE CAREFUL IT IS NOT YET POSSIBLE TO SAVE THE RESULT\n"
   ]
  },
  {
   "cell_type": "code",
   "execution_count": 95,
   "metadata": {},
   "outputs": [
    {
     "name": "stdout",
     "output_type": "stream",
     "text": [
      "['rgb(127.5,127.5,127.5)', 'rgb(195.0,230.5,252.5)', 'rgb(255.0,235.0,127.5)', 'rgb(191.5,191.5,127.5)', 'rgb(236.5,210.0,143.5)', 'rgb(230.0,173.5,173.5)', 'rgb(180.0,180.0,180.0)', 'rgb(255.0,162.0,127.5)', 'rgb(144.5,197.0,144.5)', 'rgb(160.0,180.0,240.0)', 'rgb(201.0,183.5,237.0)', 'rgb(197.0,127.5,197.0)', 'rgb(127.5,197.0,197.0)', 'rgb(197.0,162.0,137.0)']\n",
      "loaded a graph with 9 nodes and 8 edges\n"
     ]
    },
    {
     "data": {
      "application/vnd.plotly.v1+json": {
       "config": {
        "plotlyServerURL": "https://plot.ly"
       },
       "data": [
        {
         "arrangement": "snap",
         "link": {
          "color": [
           "rgb(180.0,180.0,180.0)",
           "rgb(160.0,180.0,240.0)",
           "rgb(255.0,162.0,127.5)",
           "rgb(195.0,230.5,252.5)",
           "rgb(201.0,183.5,237.0)",
           "rgb(191.5,191.5,127.5)",
           "rgb(230.0,173.5,173.5)",
           "rgb(255.0,235.0,127.5)"
          ],
          "label": [
           "1280.00 kg C02-eq",
           "780.00 kg C02-eq",
           "480.00 kg C02-eq",
           "375.00 kg C02-eq",
           "270.00 kg C02-eq",
           "1280.00 kg C02-eq",
           "480.00 kg C02-eq",
           "375.00 kg C02-eq"
          ],
          "source": [
           6,
           9,
           7,
           1,
           10,
           3,
           5,
           2
          ],
          "target": [
           0,
           0,
           0,
           0,
           0,
           6,
           7,
           1
          ],
          "value": [
           1280,
           780,
           480,
           375,
           270,
           1280,
           480,
           375
          ]
         },
         "node": {
          "color": [
           "black",
           "LightSkyBlue",
           "gold",
           "olive",
           "goldenrod",
           "indianred",
           "dimgrey",
           "orangered",
           "forestgreen",
           "royalblue",
           "mediumpurple",
           "darkmagenta",
           "darkcyan",
           "saddlebrown"
          ],
          "label": [
           "Power System\n Direct: 0.00 kg C02-eq _ Share : 0.00 % \nBurdens : 3185.36 kg C02-eq _ Share : 100.00 % ",
           "Battery\n Direct: 0.00 kg C02-eq _ Share : 0.00 % \nBurdens : 375.00 kg C02-eq _ Share : 11.77 % ",
           "Cells_Europe\n Direct: 375.00 kg C02-eq _ Share : 11.77 % \nBurdens : 0.00 kg C02-eq _ Share : 0.00 % ",
           "PCB\n Direct: 1280.00 kg C02-eq _ Share : 40.18 % \nBurdens : 0.00 kg C02-eq _ Share : 0.00 % ",
           "Harness Production\n Direct: 480.00 kg C02-eq _ Share : 15.07 % \nBurdens : 0.00 kg C02-eq _ Share : 0.00 % ",
           "Harness Production\n Direct: 480.00 kg C02-eq _ Share : 15.07 % \nBurdens : 0.00 kg C02-eq _ Share : 0.00 % ",
           "Control Unit\n Direct: 0.00 kg C02-eq _ Share : 0.00 % \nBurdens : 1280.00 kg C02-eq _ Share : 40.18 % ",
           "Harness 4 Power\n Direct: 0.00 kg C02-eq _ Share : 0.00 % \nBurdens : 480.00 kg C02-eq _ Share : 15.07 % ",
           "AIT Planegg\n Direct: 780.00 kg C02-eq _ Share : 24.49 % \nBurdens : 0.00 kg C02-eq _ Share : 0.00 % ",
           "AIT Planegg\n Direct: 780.00 kg C02-eq _ Share : 24.49 % \nBurdens : 0.00 kg C02-eq _ Share : 0.00 % ",
           "Testing Planegg\n Direct: 270.00 kg C02-eq _ Share : 8.48 % \nBurdens : 0.00 kg C02-eq _ Share : 0.00 % "
          ],
          "line": {
           "color": "white",
           "width": 1
          },
          "pad": 5,
          "thickness": 20
         },
         "type": "sankey"
        }
       ],
       "layout": {
        "font": {
         "color": "dark gray",
         "size": 10
        },
        "hovermode": "x",
        "paper_bgcolor": "#F8F8ff",
        "template": {
         "data": {
          "bar": [
           {
            "error_x": {
             "color": "#2a3f5f"
            },
            "error_y": {
             "color": "#2a3f5f"
            },
            "marker": {
             "line": {
              "color": "#E5ECF6",
              "width": 0.5
             },
             "pattern": {
              "fillmode": "overlay",
              "size": 10,
              "solidity": 0.2
             }
            },
            "type": "bar"
           }
          ],
          "barpolar": [
           {
            "marker": {
             "line": {
              "color": "#E5ECF6",
              "width": 0.5
             },
             "pattern": {
              "fillmode": "overlay",
              "size": 10,
              "solidity": 0.2
             }
            },
            "type": "barpolar"
           }
          ],
          "carpet": [
           {
            "aaxis": {
             "endlinecolor": "#2a3f5f",
             "gridcolor": "white",
             "linecolor": "white",
             "minorgridcolor": "white",
             "startlinecolor": "#2a3f5f"
            },
            "baxis": {
             "endlinecolor": "#2a3f5f",
             "gridcolor": "white",
             "linecolor": "white",
             "minorgridcolor": "white",
             "startlinecolor": "#2a3f5f"
            },
            "type": "carpet"
           }
          ],
          "choropleth": [
           {
            "colorbar": {
             "outlinewidth": 0,
             "ticks": ""
            },
            "type": "choropleth"
           }
          ],
          "contour": [
           {
            "colorbar": {
             "outlinewidth": 0,
             "ticks": ""
            },
            "colorscale": [
             [
              0,
              "#0d0887"
             ],
             [
              0.1111111111111111,
              "#46039f"
             ],
             [
              0.2222222222222222,
              "#7201a8"
             ],
             [
              0.3333333333333333,
              "#9c179e"
             ],
             [
              0.4444444444444444,
              "#bd3786"
             ],
             [
              0.5555555555555556,
              "#d8576b"
             ],
             [
              0.6666666666666666,
              "#ed7953"
             ],
             [
              0.7777777777777778,
              "#fb9f3a"
             ],
             [
              0.8888888888888888,
              "#fdca26"
             ],
             [
              1,
              "#f0f921"
             ]
            ],
            "type": "contour"
           }
          ],
          "contourcarpet": [
           {
            "colorbar": {
             "outlinewidth": 0,
             "ticks": ""
            },
            "type": "contourcarpet"
           }
          ],
          "heatmap": [
           {
            "colorbar": {
             "outlinewidth": 0,
             "ticks": ""
            },
            "colorscale": [
             [
              0,
              "#0d0887"
             ],
             [
              0.1111111111111111,
              "#46039f"
             ],
             [
              0.2222222222222222,
              "#7201a8"
             ],
             [
              0.3333333333333333,
              "#9c179e"
             ],
             [
              0.4444444444444444,
              "#bd3786"
             ],
             [
              0.5555555555555556,
              "#d8576b"
             ],
             [
              0.6666666666666666,
              "#ed7953"
             ],
             [
              0.7777777777777778,
              "#fb9f3a"
             ],
             [
              0.8888888888888888,
              "#fdca26"
             ],
             [
              1,
              "#f0f921"
             ]
            ],
            "type": "heatmap"
           }
          ],
          "heatmapgl": [
           {
            "colorbar": {
             "outlinewidth": 0,
             "ticks": ""
            },
            "colorscale": [
             [
              0,
              "#0d0887"
             ],
             [
              0.1111111111111111,
              "#46039f"
             ],
             [
              0.2222222222222222,
              "#7201a8"
             ],
             [
              0.3333333333333333,
              "#9c179e"
             ],
             [
              0.4444444444444444,
              "#bd3786"
             ],
             [
              0.5555555555555556,
              "#d8576b"
             ],
             [
              0.6666666666666666,
              "#ed7953"
             ],
             [
              0.7777777777777778,
              "#fb9f3a"
             ],
             [
              0.8888888888888888,
              "#fdca26"
             ],
             [
              1,
              "#f0f921"
             ]
            ],
            "type": "heatmapgl"
           }
          ],
          "histogram": [
           {
            "marker": {
             "pattern": {
              "fillmode": "overlay",
              "size": 10,
              "solidity": 0.2
             }
            },
            "type": "histogram"
           }
          ],
          "histogram2d": [
           {
            "colorbar": {
             "outlinewidth": 0,
             "ticks": ""
            },
            "colorscale": [
             [
              0,
              "#0d0887"
             ],
             [
              0.1111111111111111,
              "#46039f"
             ],
             [
              0.2222222222222222,
              "#7201a8"
             ],
             [
              0.3333333333333333,
              "#9c179e"
             ],
             [
              0.4444444444444444,
              "#bd3786"
             ],
             [
              0.5555555555555556,
              "#d8576b"
             ],
             [
              0.6666666666666666,
              "#ed7953"
             ],
             [
              0.7777777777777778,
              "#fb9f3a"
             ],
             [
              0.8888888888888888,
              "#fdca26"
             ],
             [
              1,
              "#f0f921"
             ]
            ],
            "type": "histogram2d"
           }
          ],
          "histogram2dcontour": [
           {
            "colorbar": {
             "outlinewidth": 0,
             "ticks": ""
            },
            "colorscale": [
             [
              0,
              "#0d0887"
             ],
             [
              0.1111111111111111,
              "#46039f"
             ],
             [
              0.2222222222222222,
              "#7201a8"
             ],
             [
              0.3333333333333333,
              "#9c179e"
             ],
             [
              0.4444444444444444,
              "#bd3786"
             ],
             [
              0.5555555555555556,
              "#d8576b"
             ],
             [
              0.6666666666666666,
              "#ed7953"
             ],
             [
              0.7777777777777778,
              "#fb9f3a"
             ],
             [
              0.8888888888888888,
              "#fdca26"
             ],
             [
              1,
              "#f0f921"
             ]
            ],
            "type": "histogram2dcontour"
           }
          ],
          "mesh3d": [
           {
            "colorbar": {
             "outlinewidth": 0,
             "ticks": ""
            },
            "type": "mesh3d"
           }
          ],
          "parcoords": [
           {
            "line": {
             "colorbar": {
              "outlinewidth": 0,
              "ticks": ""
             }
            },
            "type": "parcoords"
           }
          ],
          "pie": [
           {
            "automargin": true,
            "type": "pie"
           }
          ],
          "scatter": [
           {
            "fillpattern": {
             "fillmode": "overlay",
             "size": 10,
             "solidity": 0.2
            },
            "type": "scatter"
           }
          ],
          "scatter3d": [
           {
            "line": {
             "colorbar": {
              "outlinewidth": 0,
              "ticks": ""
             }
            },
            "marker": {
             "colorbar": {
              "outlinewidth": 0,
              "ticks": ""
             }
            },
            "type": "scatter3d"
           }
          ],
          "scattercarpet": [
           {
            "marker": {
             "colorbar": {
              "outlinewidth": 0,
              "ticks": ""
             }
            },
            "type": "scattercarpet"
           }
          ],
          "scattergeo": [
           {
            "marker": {
             "colorbar": {
              "outlinewidth": 0,
              "ticks": ""
             }
            },
            "type": "scattergeo"
           }
          ],
          "scattergl": [
           {
            "marker": {
             "colorbar": {
              "outlinewidth": 0,
              "ticks": ""
             }
            },
            "type": "scattergl"
           }
          ],
          "scattermapbox": [
           {
            "marker": {
             "colorbar": {
              "outlinewidth": 0,
              "ticks": ""
             }
            },
            "type": "scattermapbox"
           }
          ],
          "scatterpolar": [
           {
            "marker": {
             "colorbar": {
              "outlinewidth": 0,
              "ticks": ""
             }
            },
            "type": "scatterpolar"
           }
          ],
          "scatterpolargl": [
           {
            "marker": {
             "colorbar": {
              "outlinewidth": 0,
              "ticks": ""
             }
            },
            "type": "scatterpolargl"
           }
          ],
          "scatterternary": [
           {
            "marker": {
             "colorbar": {
              "outlinewidth": 0,
              "ticks": ""
             }
            },
            "type": "scatterternary"
           }
          ],
          "surface": [
           {
            "colorbar": {
             "outlinewidth": 0,
             "ticks": ""
            },
            "colorscale": [
             [
              0,
              "#0d0887"
             ],
             [
              0.1111111111111111,
              "#46039f"
             ],
             [
              0.2222222222222222,
              "#7201a8"
             ],
             [
              0.3333333333333333,
              "#9c179e"
             ],
             [
              0.4444444444444444,
              "#bd3786"
             ],
             [
              0.5555555555555556,
              "#d8576b"
             ],
             [
              0.6666666666666666,
              "#ed7953"
             ],
             [
              0.7777777777777778,
              "#fb9f3a"
             ],
             [
              0.8888888888888888,
              "#fdca26"
             ],
             [
              1,
              "#f0f921"
             ]
            ],
            "type": "surface"
           }
          ],
          "table": [
           {
            "cells": {
             "fill": {
              "color": "#EBF0F8"
             },
             "line": {
              "color": "white"
             }
            },
            "header": {
             "fill": {
              "color": "#C8D4E3"
             },
             "line": {
              "color": "white"
             }
            },
            "type": "table"
           }
          ]
         },
         "layout": {
          "annotationdefaults": {
           "arrowcolor": "#2a3f5f",
           "arrowhead": 0,
           "arrowwidth": 1
          },
          "autotypenumbers": "strict",
          "coloraxis": {
           "colorbar": {
            "outlinewidth": 0,
            "ticks": ""
           }
          },
          "colorscale": {
           "diverging": [
            [
             0,
             "#8e0152"
            ],
            [
             0.1,
             "#c51b7d"
            ],
            [
             0.2,
             "#de77ae"
            ],
            [
             0.3,
             "#f1b6da"
            ],
            [
             0.4,
             "#fde0ef"
            ],
            [
             0.5,
             "#f7f7f7"
            ],
            [
             0.6,
             "#e6f5d0"
            ],
            [
             0.7,
             "#b8e186"
            ],
            [
             0.8,
             "#7fbc41"
            ],
            [
             0.9,
             "#4d9221"
            ],
            [
             1,
             "#276419"
            ]
           ],
           "sequential": [
            [
             0,
             "#0d0887"
            ],
            [
             0.1111111111111111,
             "#46039f"
            ],
            [
             0.2222222222222222,
             "#7201a8"
            ],
            [
             0.3333333333333333,
             "#9c179e"
            ],
            [
             0.4444444444444444,
             "#bd3786"
            ],
            [
             0.5555555555555556,
             "#d8576b"
            ],
            [
             0.6666666666666666,
             "#ed7953"
            ],
            [
             0.7777777777777778,
             "#fb9f3a"
            ],
            [
             0.8888888888888888,
             "#fdca26"
            ],
            [
             1,
             "#f0f921"
            ]
           ],
           "sequentialminus": [
            [
             0,
             "#0d0887"
            ],
            [
             0.1111111111111111,
             "#46039f"
            ],
            [
             0.2222222222222222,
             "#7201a8"
            ],
            [
             0.3333333333333333,
             "#9c179e"
            ],
            [
             0.4444444444444444,
             "#bd3786"
            ],
            [
             0.5555555555555556,
             "#d8576b"
            ],
            [
             0.6666666666666666,
             "#ed7953"
            ],
            [
             0.7777777777777778,
             "#fb9f3a"
            ],
            [
             0.8888888888888888,
             "#fdca26"
            ],
            [
             1,
             "#f0f921"
            ]
           ]
          },
          "colorway": [
           "#636efa",
           "#EF553B",
           "#00cc96",
           "#ab63fa",
           "#FFA15A",
           "#19d3f3",
           "#FF6692",
           "#B6E880",
           "#FF97FF",
           "#FECB52"
          ],
          "font": {
           "color": "#2a3f5f"
          },
          "geo": {
           "bgcolor": "white",
           "lakecolor": "white",
           "landcolor": "#E5ECF6",
           "showlakes": true,
           "showland": true,
           "subunitcolor": "white"
          },
          "hoverlabel": {
           "align": "left"
          },
          "hovermode": "closest",
          "mapbox": {
           "style": "light"
          },
          "paper_bgcolor": "white",
          "plot_bgcolor": "#E5ECF6",
          "polar": {
           "angularaxis": {
            "gridcolor": "white",
            "linecolor": "white",
            "ticks": ""
           },
           "bgcolor": "#E5ECF6",
           "radialaxis": {
            "gridcolor": "white",
            "linecolor": "white",
            "ticks": ""
           }
          },
          "scene": {
           "xaxis": {
            "backgroundcolor": "#E5ECF6",
            "gridcolor": "white",
            "gridwidth": 2,
            "linecolor": "white",
            "showbackground": true,
            "ticks": "",
            "zerolinecolor": "white"
           },
           "yaxis": {
            "backgroundcolor": "#E5ECF6",
            "gridcolor": "white",
            "gridwidth": 2,
            "linecolor": "white",
            "showbackground": true,
            "ticks": "",
            "zerolinecolor": "white"
           },
           "zaxis": {
            "backgroundcolor": "#E5ECF6",
            "gridcolor": "white",
            "gridwidth": 2,
            "linecolor": "white",
            "showbackground": true,
            "ticks": "",
            "zerolinecolor": "white"
           }
          },
          "shapedefaults": {
           "line": {
            "color": "#2a3f5f"
           }
          },
          "ternary": {
           "aaxis": {
            "gridcolor": "white",
            "linecolor": "white",
            "ticks": ""
           },
           "baxis": {
            "gridcolor": "white",
            "linecolor": "white",
            "ticks": ""
           },
           "bgcolor": "#E5ECF6",
           "caxis": {
            "gridcolor": "white",
            "linecolor": "white",
            "ticks": ""
           }
          },
          "title": {
           "x": 0.05
          },
          "xaxis": {
           "automargin": true,
           "gridcolor": "white",
           "linecolor": "white",
           "ticks": "",
           "title": {
            "standoff": 15
           },
           "zerolinecolor": "white",
           "zerolinewidth": 2
          },
          "yaxis": {
           "automargin": true,
           "gridcolor": "white",
           "linecolor": "white",
           "ticks": "",
           "title": {
            "standoff": 15
           },
           "zerolinecolor": "white",
           "zerolinewidth": 2
          }
         }
        },
        "title": {
         "text": "Sankey Diagram of the Global Warming impacts for Power System Assembly & Qualification process",
         "x": 0.5
        }
       }
      }
     },
     "metadata": {},
     "output_type": "display_data"
    }
   ],
   "source": [
    "# Setup our colours\n",
    "coloring = ['black','LightSkyBlue','gold', 'olive','goldenrod','indianred','dimgrey','orangered','forestgreen','royalblue','mediumpurple','darkmagenta','darkcyan','saddlebrown']\n",
    "alpha = 0.5\n",
    "\n",
    "l_coloring = [f'rgb({(1 - alpha) * 255 + alpha * mp.colors.to_rgba(color,alpha=0.5)[0]*255},{(1 - alpha) * 255 + alpha * mp.colors.to_rgba(color,alpha=0.5)[1]*255},{(1 - alpha) * 255 + alpha * mp.colors.to_rgba(color,alpha=0.5)[2]*255})' for color in coloring]\n",
    "\n",
    "\n",
    "\n",
    "\n",
    "print (l_coloring)\n",
    "imp_cat_for_sankey = client.find(o.ImpactCategory,\"Global Warming\")\n",
    "\n",
    "client = ipc.Client(8080)\n",
    "# calculate a result for the default quantitative reference of a product system\n",
    "result_sankey = client.calculate(\n",
    "    o.CalculationSetup(\n",
    "        target=LCA_Prod_syst,\n",
    "        impact_method=LCA_Impact_method,\n",
    "    )\n",
    ")\n",
    "state = result_sankey.wait_until_ready()\n",
    "\n",
    "# get the Sankey graph for an impact category\n",
    "g = result_sankey.get_sankey_graph(\n",
    "    o.SankeyRequest(\n",
    "        impact_category=imp_cat_for_sankey,\n",
    "        max_nodes=20,\n",
    "        min_share=0.05,\n",
    "    )\n",
    ")\n",
    "print(f\"loaded a graph with {len(g.nodes)} nodes and {len(g.edges)} edges\")\n",
    "# prints something like: loaded a graph with 10 nodes and 14 edges\n",
    "tot_scaling = result_sankey.get_total_impact_value_of(imp_cat_for_sankey)\n",
    "\n",
    "ref = client.put(o.Result(id=state.id))\n",
    "# finally, dispose the result\n",
    "result_sankey.dispose()\n",
    "\n",
    "\n",
    "\n",
    "sorted_nodes = sorted(g.nodes, key=lambda n: n.index)\n",
    "\n",
    "sorted_nodes_with_empty = []\n",
    "idx = 0\n",
    "for node in sorted_nodes :\n",
    "    if idx != node.index : \n",
    "        sorted_nodes.insert(idx,node)\n",
    "    idx=idx+1\n",
    "\n",
    "#for node in sorted_nodes_with_empty : \n",
    "#   print (node.index,node.tech_flow.provider.name)\n",
    "#print (tabulate(g.edges,headers=\"keys\"))\n",
    "\n",
    "#print ([node.tech_flow.provider.name for node in g.nodes])\n",
    "\n",
    "node_mapping = {}\n",
    "for node in g.nodes:\n",
    "    node_mapping[node.index] = node.total_result\n",
    "#print (node_mapping)\n",
    "for edge in g.edges : \n",
    "    A = node_mapping.get(edge.provider_index)\n",
    "   # print(A)\n",
    "\n",
    "# Create the Sankey diagram\n",
    "fig = go.Figure(go.Sankey(\n",
    "    node=dict(\n",
    "        pad=5,\n",
    "        thickness=20,\n",
    "        line=dict(color='white', width=1),\n",
    "        color = coloring,\n",
    "        label=[f\"{node.tech_flow.provider.name}\\n Direct: {node.direct_result:.2f} {imp_cat_for_sankey.ref_unit} _ Share : {node.direct_result/tot_scaling.amount*100 :.2f} % \\nBurdens : {node.total_result-node.direct_result:.2f} {imp_cat_for_sankey.ref_unit} _ Share : {(node.total_result-node.direct_result)/tot_scaling.amount*100 :.2f} % \" for node in sorted_nodes],\n",
    "    ),\n",
    "    link=dict(\n",
    "        source=[edge.provider_index for edge in g.edges],\n",
    "        target=[edge.node_index for edge in g.edges],\n",
    "        value=[edge.upstream_share*(node_mapping.get(edge.provider_index)) for edge in g.edges],\n",
    "        color=[l_coloring[edge.provider_index] for edge in g.edges],\n",
    "        label= [f\"{edge.upstream_share*(node_mapping.get(edge.provider_index)):.2f} {imp_cat_for_sankey.ref_unit}\"for edge in g.edges]\n",
    "    ),\n",
    "    arrangement=\"snap\",\n",
    "    \n",
    "))\n",
    "fig.update_layout(\n",
    "    hovermode='x',\n",
    "    font=dict(size=10, color='dark gray'),\n",
    "    paper_bgcolor='#F8F8ff'\n",
    ")\n",
    "fig.update_layout(title_text=f\"Sankey Diagram of the {imp_cat_for_sankey.name} impacts for {model.name} process\",  title_x=0.5)\n",
    "# Display the plot\n",
    "fig.show()\n",
    "\n",
    "\n",
    "\n"
   ]
  },
  {
   "cell_type": "code",
   "execution_count": 169,
   "metadata": {},
   "outputs": [
    {
     "name": "stderr",
     "output_type": "stream",
     "text": [
      "Warning: Unable to reclaim box space in spline routing for edge \"10\" -> \"0\". Something is probably seriously wrong.\n"
     ]
    },
    {
     "data": {
      "text/plain": [
       "'sankey_graph.png'"
      ]
     },
     "execution_count": 169,
     "metadata": {},
     "output_type": "execute_result"
    }
   ],
   "source": [
    "import graphviz\n",
    "graph = graphviz.Digraph(format='png', graph_attr={'rankdir': 'LR'})\n",
    "default_font_size = 14\n",
    "for edge in g.edges:\n",
    "    graph.edge(str(edge.provider_index), str(edge.node_index), \n",
    "                label=f\"{edge.upstream_share*(node_mapping.get(edge.provider_index)):.2f} {imp_cat_for_sankey.ref_unit}\",color=f'#000000{int(0.6*255):02X}',\n",
    "                penwidth=str(edge.upstream_share*(node_mapping.get(edge.provider_index))/40),\n",
    "                minlen=\"3\",arrowhead=\"none\", tailport = \"e\", headport= \"c\",\n",
    "                )\n",
    "    \n",
    "for node in g.nodes:\n",
    "    graph.node(f\"{node.index}\", \n",
    "                label = f'<<B><FONT POINT-SIZE=\"{default_font_size + 3}\">{node.tech_flow.provider.name}<BR/></FONT></B>' \\\n",
    "                        f'Direct: {node.direct_result:.2f} {imp_cat_for_sankey.ref_unit} _ Share : {node.direct_result/tot_scaling.amount*100 :.2f} % <BR/>' \\\n",
    "                        f'Total : {node.total_result-node.direct_result:.2f} {imp_cat_for_sankey.ref_unit} _ Share : {(node.total_result-node.direct_result)/tot_scaling.amount*100 :.2f} % >', shape='box',\n",
    "                        layer='1')\n",
    "\n",
    "                    \n",
    "\n",
    "\n",
    "\n",
    "# Save the graph to a file and optionally display it\n",
    "graph.render(filename='sankey_graph', view=True)"
   ]
  },
  {
   "cell_type": "markdown",
   "metadata": {},
   "source": [
    "Attention Recalculer results"
   ]
  },
  {
   "cell_type": "code",
   "execution_count": 339,
   "metadata": {},
   "outputs": [
    {
     "data": {
      "text/plain": [
       "Text(0.5, 1.0, 'Share of burdens according to the impact category')"
      ]
     },
     "execution_count": 339,
     "metadata": {},
     "output_type": "execute_result"
    },
    {
     "data": {
      "image/png": "[encoded data removed]",
      "text/plain": [
       "<Figure size 640x480 with 1 Axes>"
      ]
     },
     "metadata": {},
     "output_type": "display_data"
    }
   ],
   "source": [
    "LCA_Impact_table = result.get_total_impacts()\n",
    "A =[]\n",
    "B= []\n",
    "\n",
    "for A in result.get_tech_flows() : \n",
    "    B.append(A.provider.name)\n",
    "#for i in LCA_Impact_table:\n",
    "    #    impact_flow_contrib = result.get_impact_contributions_of(i.impact_category)\n",
    "#  for x in impact_flow_contrib : \n",
    "#        A.append(x.amount/i.amount)\n",
    "\n",
    "\n",
    "\n",
    "#B = ['Sandwich Package Production', 'Aluminium Foil Production', 'Electricity Production', 'Aluminium Production']\n",
    "# Initialize an empty DataFrame with a single row\n",
    "df = pd.DataFrame(columns=B)\n",
    "\n",
    "\n",
    "for i in LCA_Impact_table:\n",
    "    impact_flow_contrib = result.get_impact_contributions_of(i.impact_category)\n",
    "    row_data = []\n",
    "    for x in impact_flow_contrib:\n",
    "        row_data.append(x.amount / i.amount*100)\n",
    "    df.loc[f\"{i.impact_category.name} in [{i.impact_category.ref_unit}]\"] = row_data\n",
    "    # Append the calculated values as a single row to the DataFrame\n",
    "df.plot.bar(stacked=True)\n",
    "\n",
    "plt.ylabel(\"% Share of burdens\")\n",
    "plt.xticks(rotation=45, ha=\"right\")\n",
    "plt.legend(title='Categories', bbox_to_anchor=(1.05, 1), loc='upper left')\n",
    "plt.title('Share of burdens according to the impact category')"
   ]
  },
  {
   "cell_type": "markdown",
   "metadata": {},
   "source": [
    "Repartition according to a tag"
   ]
  },
  {
   "cell_type": "code",
   "execution_count": 340,
   "metadata": {},
   "outputs": [
    {
     "name": "stdout",
     "output_type": "stream",
     "text": [
      "['Power', 'Logistics', 'Equipment', 'Testing', 'Production', 'Spacecraft', 'Assembly', 'SubSystem']\n"
     ]
    }
   ],
   "source": [
    "tag_list = list(set(tag for A in result.get_tech_flows() for tag in client.get(o.Process, A.provider.id).tags))\n",
    "\n",
    "print(tag_list)"
   ]
  },
  {
   "cell_type": "code",
   "execution_count": 341,
   "metadata": {},
   "outputs": [
    {
     "data": {
      "image/png": "[encoded data removed]",
      "text/plain": [
       "<Figure size 640x480 with 1 Axes>"
      ]
     },
     "metadata": {},
     "output_type": "display_data"
    }
   ],
   "source": [
    "LCA_Impact_table = result.get_total_impacts()\n",
    "chosen_tag = [\"Power\"]\n",
    "B= []\n",
    "C=[]\n",
    "total_impact = 0 \n",
    "for A in result.get_tech_flows() : \n",
    "    if any (item in chosen_tag for item in client.get(o.Process, A.provider.id).tags) : \n",
    "        B.append(A.provider.name)\n",
    "        C.append(A)\n",
    "       \n",
    "\n",
    "#print (tabulate(LCA_Impact_table,headers=\"keys\"))\n",
    "# Initialize an empty DataFrame with a single row\n",
    "df = pd.DataFrame(columns=B)\n",
    "\n",
    "\n",
    "for i in LCA_Impact_table:\n",
    "    impact_flow_contrib = result.get_impact_contributions_of(i.impact_category)\n",
    "    total_impact = 0\n",
    "    for a in C : \n",
    "        total_impact =total_impact+ result.get_total_impact_of(i.impact_category,a).amount\n",
    "    row_data = []\n",
    "    for x in impact_flow_contrib:\n",
    "        if x.tech_flow.provider.name in B : \n",
    "            row_data.append(result.get_total_impact_of(i.impact_category,x.tech_flow).amount / total_impact*100)\n",
    "    df.loc[f\"{i.impact_category.name} in [{i.impact_category.ref_unit}]\"] = row_data\n",
    "    # Append the calculated values as a single row to the DataFrame\n",
    "df.plot.bar(stacked=True)\n",
    "\n",
    "\n",
    "plt.ylabel(\"% Share of burdens\")\n",
    "plt.xticks(rotation=45, ha=\"right\")\n",
    "plt.legend(title='Categories', bbox_to_anchor=(1.05, 1), loc='upper left')\n",
    "plt.title(f'Share of burdens of {chosen_tag} according to the impact category')\n",
    "\n",
    "plt.show()\n"
   ]
  },
  {
   "cell_type": "markdown",
   "metadata": {},
   "source": [
    "Life Cycle Repartition"
   ]
  },
  {
   "cell_type": "code",
   "execution_count": 342,
   "metadata": {},
   "outputs": [
    {
     "data": {
      "image/png": "[encoded data removed]",
      "text/plain": [
       "<Figure size 640x480 with 1 Axes>"
      ]
     },
     "metadata": {},
     "output_type": "display_data"
    }
   ],
   "source": [
    "LCA_Impact_table = result.get_total_impacts()\n",
    "life_cycle_tags = [\"Production\",\"Assembly\",\"Testing\",\"Logistics\"]\n",
    "\n",
    "C=[]\n",
    "\n",
    "for A in result.get_tech_flows() : \n",
    "    if any (item in chosen_tag for item in client.get(o.Process, A.provider.id).tags) : \n",
    "        B.append(A.provider.name)\n",
    "        C.append(A)\n",
    "       \n",
    "\n",
    "#print (tabulate(LCA_Impact_table,headers=\"keys\"))\n",
    "# Initialize an empty DataFrame with a single row\n",
    "df = pd.DataFrame(columns=life_cycle_tags)\n",
    "\n",
    "\n",
    "for i in LCA_Impact_table:\n",
    "    impact_flow_contrib = result.get_impact_contributions_of(i.impact_category)\n",
    "    row_data = []\n",
    "    for item in life_cycle_tags:\n",
    "        total_impact = 0 \n",
    "        for A in result.get_tech_flows() : \n",
    "            if item in client.get(o.Process, A.provider.id).tags :\n",
    "                total_impact =total_impact+ result.get_total_impact_of(i.impact_category,A).amount\n",
    "        row_data.append(total_impact / i.amount*100)\n",
    "    df.loc[f\"{i.impact_category.name} in [{i.impact_category.ref_unit}]\"] = row_data\n",
    "    # Append the calculated values as a single row to the DataFrame\n",
    "df.plot.bar(stacked=True)\n",
    "\n",
    "\n",
    "plt.ylabel(\"% Share of burdens\")\n",
    "plt.xticks(rotation=45, ha=\"right\")\n",
    "plt.legend(title='Categories', bbox_to_anchor=(1.05, 1), loc='upper left')\n",
    "plt.title(f'Share of burdens of life cycle stages according to the impact category')\n",
    "\n",
    "plt.show()\n"
   ]
  }
 ],
 "metadata": {
  "kernelspec": {
   "display_name": ".test",
   "language": "python",
   "name": "python3"
  },
  "language_info": {
   "codemirror_mode": {
    "name": "ipython",
    "version": 3
   },
   "file_extension": ".py",
   "mimetype": "text/x-python",
   "name": "python",
   "nbconvert_exporter": "python",
   "pygments_lexer": "ipython3",
   "version": "3.11.6"
  }
 },
 "nbformat": 4,
 "nbformat_minor": 2
}
